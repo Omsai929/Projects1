{
  "cells": [
    {
      "cell_type": "markdown",
      "id": "d56ddea5",
      "metadata": {
        "id": "d56ddea5"
      },
      "source": [
        "## Sales of retail stores"
      ]
    },
    {
      "cell_type": "markdown",
      "id": "54429137",
      "metadata": {
        "id": "54429137"
      },
      "source": [
        "## Steps to be followed\n",
        "1. Data collection\n",
        "2. Importing libraries\n",
        "3. Importing datasets\n",
        "4. Preprocessing\n",
        "5. Identifying and handling missing values\n",
        "6. Visualization\n",
        "7. Encoding categorical features to numerical\n",
        "8. Splitting the data\n",
        "9. Scaling\n",
        "10. Model building\n",
        "11. model performance"
      ]
    },
    {
      "cell_type": "markdown",
      "id": "f7cf541f",
      "metadata": {
        "id": "f7cf541f"
      },
      "source": [
        "## 1. Dataset collected from team lead"
      ]
    },
    {
      "cell_type": "markdown",
      "id": "688e788f",
      "metadata": {
        "id": "688e788f"
      },
      "source": [
        "## 2. Importing libraries"
      ]
    },
    {
      "cell_type": "code",
      "execution_count": 1,
      "id": "933e1807",
      "metadata": {
        "id": "933e1807"
      },
      "outputs": [],
      "source": [
        "import pandas as pd\n",
        "import numpy as np\n",
        "import seaborn as sns\n",
        "import matplotlib.pyplot as plt\n",
        "%matplotlib inline\n",
        "import warnings\n",
        "warnings.filterwarnings('ignore')\n",
        "import re"
      ]
    },
    {
      "cell_type": "markdown",
      "id": "4f6f601c",
      "metadata": {
        "id": "4f6f601c"
      },
      "source": [
        "## 3. Importing datasets"
      ]
    },
    {
      "cell_type": "code",
      "execution_count": 2,
      "id": "45526477",
      "metadata": {
        "id": "45526477"
      },
      "outputs": [],
      "source": [
        "import pandas as pd\n",
        "Sales1 = pd.read_csv('/content/date_to_week_id_map.csv')\n",
        "Sales2 = pd.read_csv('/content/product_prices.csv')\n",
        "Sales3 = pd.read_csv('/content/train_data.csv')\n",
        "Sales4 = pd.read_csv('/content/test_data.csv')"
      ]
    },
    {
      "cell_type": "code",
      "execution_count": 3,
      "id": "a5952cce",
      "metadata": {
        "colab": {
          "base_uri": "https://localhost:8080/"
        },
        "id": "a5952cce",
        "outputId": "f4446486-e103-433d-bea4-d5075bae52d3"
      },
      "outputs": [
        {
          "output_type": "stream",
          "name": "stdout",
          "text": [
            "(821, 2)\n",
            "(59000, 4)\n",
            "(395000, 7)\n",
            "(15500, 7)\n"
          ]
        }
      ],
      "source": [
        "print(Sales1.shape)\n",
        "print(Sales2.shape)\n",
        "print(Sales3.shape)\n",
        "print(Sales4.shape)"
      ]
    },
    {
      "cell_type": "markdown",
      "id": "15577166",
      "metadata": {
        "id": "15577166"
      },
      "source": [
        "## 4. Preprocessing"
      ]
    },
    {
      "cell_type": "code",
      "execution_count": 4,
      "id": "846d3dbd",
      "metadata": {
        "colab": {
          "base_uri": "https://localhost:8080/",
          "height": 206
        },
        "id": "846d3dbd",
        "outputId": "4e2fcde7-e75d-4d00-a5ca-54b97eeba98f"
      },
      "outputs": [
        {
          "output_type": "execute_result",
          "data": {
            "text/plain": [
              "         date  week_id\n",
              "0  2012-01-01       49\n",
              "1  2012-01-02       49\n",
              "2  2012-01-03       49\n",
              "3  2012-01-04       49\n",
              "4  2012-01-05       49"
            ],
            "text/html": [
              "\n",
              "  <div id=\"df-41fb0c83-1c0c-4a07-a8e9-c7f7535d1cd3\">\n",
              "    <div class=\"colab-df-container\">\n",
              "      <div>\n",
              "<style scoped>\n",
              "    .dataframe tbody tr th:only-of-type {\n",
              "        vertical-align: middle;\n",
              "    }\n",
              "\n",
              "    .dataframe tbody tr th {\n",
              "        vertical-align: top;\n",
              "    }\n",
              "\n",
              "    .dataframe thead th {\n",
              "        text-align: right;\n",
              "    }\n",
              "</style>\n",
              "<table border=\"1\" class=\"dataframe\">\n",
              "  <thead>\n",
              "    <tr style=\"text-align: right;\">\n",
              "      <th></th>\n",
              "      <th>date</th>\n",
              "      <th>week_id</th>\n",
              "    </tr>\n",
              "  </thead>\n",
              "  <tbody>\n",
              "    <tr>\n",
              "      <th>0</th>\n",
              "      <td>2012-01-01</td>\n",
              "      <td>49</td>\n",
              "    </tr>\n",
              "    <tr>\n",
              "      <th>1</th>\n",
              "      <td>2012-01-02</td>\n",
              "      <td>49</td>\n",
              "    </tr>\n",
              "    <tr>\n",
              "      <th>2</th>\n",
              "      <td>2012-01-03</td>\n",
              "      <td>49</td>\n",
              "    </tr>\n",
              "    <tr>\n",
              "      <th>3</th>\n",
              "      <td>2012-01-04</td>\n",
              "      <td>49</td>\n",
              "    </tr>\n",
              "    <tr>\n",
              "      <th>4</th>\n",
              "      <td>2012-01-05</td>\n",
              "      <td>49</td>\n",
              "    </tr>\n",
              "  </tbody>\n",
              "</table>\n",
              "</div>\n",
              "      <button class=\"colab-df-convert\" onclick=\"convertToInteractive('df-41fb0c83-1c0c-4a07-a8e9-c7f7535d1cd3')\"\n",
              "              title=\"Convert this dataframe to an interactive table.\"\n",
              "              style=\"display:none;\">\n",
              "        \n",
              "  <svg xmlns=\"http://www.w3.org/2000/svg\" height=\"24px\"viewBox=\"0 0 24 24\"\n",
              "       width=\"24px\">\n",
              "    <path d=\"M0 0h24v24H0V0z\" fill=\"none\"/>\n",
              "    <path d=\"M18.56 5.44l.94 2.06.94-2.06 2.06-.94-2.06-.94-.94-2.06-.94 2.06-2.06.94zm-11 1L8.5 8.5l.94-2.06 2.06-.94-2.06-.94L8.5 2.5l-.94 2.06-2.06.94zm10 10l.94 2.06.94-2.06 2.06-.94-2.06-.94-.94-2.06-.94 2.06-2.06.94z\"/><path d=\"M17.41 7.96l-1.37-1.37c-.4-.4-.92-.59-1.43-.59-.52 0-1.04.2-1.43.59L10.3 9.45l-7.72 7.72c-.78.78-.78 2.05 0 2.83L4 21.41c.39.39.9.59 1.41.59.51 0 1.02-.2 1.41-.59l7.78-7.78 2.81-2.81c.8-.78.8-2.07 0-2.86zM5.41 20L4 18.59l7.72-7.72 1.47 1.35L5.41 20z\"/>\n",
              "  </svg>\n",
              "      </button>\n",
              "      \n",
              "  <style>\n",
              "    .colab-df-container {\n",
              "      display:flex;\n",
              "      flex-wrap:wrap;\n",
              "      gap: 12px;\n",
              "    }\n",
              "\n",
              "    .colab-df-convert {\n",
              "      background-color: #E8F0FE;\n",
              "      border: none;\n",
              "      border-radius: 50%;\n",
              "      cursor: pointer;\n",
              "      display: none;\n",
              "      fill: #1967D2;\n",
              "      height: 32px;\n",
              "      padding: 0 0 0 0;\n",
              "      width: 32px;\n",
              "    }\n",
              "\n",
              "    .colab-df-convert:hover {\n",
              "      background-color: #E2EBFA;\n",
              "      box-shadow: 0px 1px 2px rgba(60, 64, 67, 0.3), 0px 1px 3px 1px rgba(60, 64, 67, 0.15);\n",
              "      fill: #174EA6;\n",
              "    }\n",
              "\n",
              "    [theme=dark] .colab-df-convert {\n",
              "      background-color: #3B4455;\n",
              "      fill: #D2E3FC;\n",
              "    }\n",
              "\n",
              "    [theme=dark] .colab-df-convert:hover {\n",
              "      background-color: #434B5C;\n",
              "      box-shadow: 0px 1px 3px 1px rgba(0, 0, 0, 0.15);\n",
              "      filter: drop-shadow(0px 1px 2px rgba(0, 0, 0, 0.3));\n",
              "      fill: #FFFFFF;\n",
              "    }\n",
              "  </style>\n",
              "\n",
              "      <script>\n",
              "        const buttonEl =\n",
              "          document.querySelector('#df-41fb0c83-1c0c-4a07-a8e9-c7f7535d1cd3 button.colab-df-convert');\n",
              "        buttonEl.style.display =\n",
              "          google.colab.kernel.accessAllowed ? 'block' : 'none';\n",
              "\n",
              "        async function convertToInteractive(key) {\n",
              "          const element = document.querySelector('#df-41fb0c83-1c0c-4a07-a8e9-c7f7535d1cd3');\n",
              "          const dataTable =\n",
              "            await google.colab.kernel.invokeFunction('convertToInteractive',\n",
              "                                                     [key], {});\n",
              "          if (!dataTable) return;\n",
              "\n",
              "          const docLinkHtml = 'Like what you see? Visit the ' +\n",
              "            '<a target=\"_blank\" href=https://colab.research.google.com/notebooks/data_table.ipynb>data table notebook</a>'\n",
              "            + ' to learn more about interactive tables.';\n",
              "          element.innerHTML = '';\n",
              "          dataTable['output_type'] = 'display_data';\n",
              "          await google.colab.output.renderOutput(dataTable, element);\n",
              "          const docLink = document.createElement('div');\n",
              "          docLink.innerHTML = docLinkHtml;\n",
              "          element.appendChild(docLink);\n",
              "        }\n",
              "      </script>\n",
              "    </div>\n",
              "  </div>\n",
              "  "
            ]
          },
          "metadata": {},
          "execution_count": 4
        }
      ],
      "source": [
        "Sales1.head()"
      ]
    },
    {
      "cell_type": "code",
      "execution_count": 5,
      "id": "4fcf3ebc",
      "metadata": {
        "colab": {
          "base_uri": "https://localhost:8080/",
          "height": 206
        },
        "id": "4fcf3ebc",
        "outputId": "976465a5-18c1-4fc8-91a3-be026b197c03"
      },
      "outputs": [
        {
          "output_type": "execute_result",
          "data": {
            "text/plain": [
              "   outlet  product_identifier  week_id  sell_price\n",
              "0     111                  74       49        2.94\n",
              "1     111                  74       50        2.94\n",
              "2     111                  74       51        2.94\n",
              "3     111                  74       52        2.94\n",
              "4     111                  74       53        2.94"
            ],
            "text/html": [
              "\n",
              "  <div id=\"df-598cff7d-e24e-492f-8c60-52294f479371\">\n",
              "    <div class=\"colab-df-container\">\n",
              "      <div>\n",
              "<style scoped>\n",
              "    .dataframe tbody tr th:only-of-type {\n",
              "        vertical-align: middle;\n",
              "    }\n",
              "\n",
              "    .dataframe tbody tr th {\n",
              "        vertical-align: top;\n",
              "    }\n",
              "\n",
              "    .dataframe thead th {\n",
              "        text-align: right;\n",
              "    }\n",
              "</style>\n",
              "<table border=\"1\" class=\"dataframe\">\n",
              "  <thead>\n",
              "    <tr style=\"text-align: right;\">\n",
              "      <th></th>\n",
              "      <th>outlet</th>\n",
              "      <th>product_identifier</th>\n",
              "      <th>week_id</th>\n",
              "      <th>sell_price</th>\n",
              "    </tr>\n",
              "  </thead>\n",
              "  <tbody>\n",
              "    <tr>\n",
              "      <th>0</th>\n",
              "      <td>111</td>\n",
              "      <td>74</td>\n",
              "      <td>49</td>\n",
              "      <td>2.94</td>\n",
              "    </tr>\n",
              "    <tr>\n",
              "      <th>1</th>\n",
              "      <td>111</td>\n",
              "      <td>74</td>\n",
              "      <td>50</td>\n",
              "      <td>2.94</td>\n",
              "    </tr>\n",
              "    <tr>\n",
              "      <th>2</th>\n",
              "      <td>111</td>\n",
              "      <td>74</td>\n",
              "      <td>51</td>\n",
              "      <td>2.94</td>\n",
              "    </tr>\n",
              "    <tr>\n",
              "      <th>3</th>\n",
              "      <td>111</td>\n",
              "      <td>74</td>\n",
              "      <td>52</td>\n",
              "      <td>2.94</td>\n",
              "    </tr>\n",
              "    <tr>\n",
              "      <th>4</th>\n",
              "      <td>111</td>\n",
              "      <td>74</td>\n",
              "      <td>53</td>\n",
              "      <td>2.94</td>\n",
              "    </tr>\n",
              "  </tbody>\n",
              "</table>\n",
              "</div>\n",
              "      <button class=\"colab-df-convert\" onclick=\"convertToInteractive('df-598cff7d-e24e-492f-8c60-52294f479371')\"\n",
              "              title=\"Convert this dataframe to an interactive table.\"\n",
              "              style=\"display:none;\">\n",
              "        \n",
              "  <svg xmlns=\"http://www.w3.org/2000/svg\" height=\"24px\"viewBox=\"0 0 24 24\"\n",
              "       width=\"24px\">\n",
              "    <path d=\"M0 0h24v24H0V0z\" fill=\"none\"/>\n",
              "    <path d=\"M18.56 5.44l.94 2.06.94-2.06 2.06-.94-2.06-.94-.94-2.06-.94 2.06-2.06.94zm-11 1L8.5 8.5l.94-2.06 2.06-.94-2.06-.94L8.5 2.5l-.94 2.06-2.06.94zm10 10l.94 2.06.94-2.06 2.06-.94-2.06-.94-.94-2.06-.94 2.06-2.06.94z\"/><path d=\"M17.41 7.96l-1.37-1.37c-.4-.4-.92-.59-1.43-.59-.52 0-1.04.2-1.43.59L10.3 9.45l-7.72 7.72c-.78.78-.78 2.05 0 2.83L4 21.41c.39.39.9.59 1.41.59.51 0 1.02-.2 1.41-.59l7.78-7.78 2.81-2.81c.8-.78.8-2.07 0-2.86zM5.41 20L4 18.59l7.72-7.72 1.47 1.35L5.41 20z\"/>\n",
              "  </svg>\n",
              "      </button>\n",
              "      \n",
              "  <style>\n",
              "    .colab-df-container {\n",
              "      display:flex;\n",
              "      flex-wrap:wrap;\n",
              "      gap: 12px;\n",
              "    }\n",
              "\n",
              "    .colab-df-convert {\n",
              "      background-color: #E8F0FE;\n",
              "      border: none;\n",
              "      border-radius: 50%;\n",
              "      cursor: pointer;\n",
              "      display: none;\n",
              "      fill: #1967D2;\n",
              "      height: 32px;\n",
              "      padding: 0 0 0 0;\n",
              "      width: 32px;\n",
              "    }\n",
              "\n",
              "    .colab-df-convert:hover {\n",
              "      background-color: #E2EBFA;\n",
              "      box-shadow: 0px 1px 2px rgba(60, 64, 67, 0.3), 0px 1px 3px 1px rgba(60, 64, 67, 0.15);\n",
              "      fill: #174EA6;\n",
              "    }\n",
              "\n",
              "    [theme=dark] .colab-df-convert {\n",
              "      background-color: #3B4455;\n",
              "      fill: #D2E3FC;\n",
              "    }\n",
              "\n",
              "    [theme=dark] .colab-df-convert:hover {\n",
              "      background-color: #434B5C;\n",
              "      box-shadow: 0px 1px 3px 1px rgba(0, 0, 0, 0.15);\n",
              "      filter: drop-shadow(0px 1px 2px rgba(0, 0, 0, 0.3));\n",
              "      fill: #FFFFFF;\n",
              "    }\n",
              "  </style>\n",
              "\n",
              "      <script>\n",
              "        const buttonEl =\n",
              "          document.querySelector('#df-598cff7d-e24e-492f-8c60-52294f479371 button.colab-df-convert');\n",
              "        buttonEl.style.display =\n",
              "          google.colab.kernel.accessAllowed ? 'block' : 'none';\n",
              "\n",
              "        async function convertToInteractive(key) {\n",
              "          const element = document.querySelector('#df-598cff7d-e24e-492f-8c60-52294f479371');\n",
              "          const dataTable =\n",
              "            await google.colab.kernel.invokeFunction('convertToInteractive',\n",
              "                                                     [key], {});\n",
              "          if (!dataTable) return;\n",
              "\n",
              "          const docLinkHtml = 'Like what you see? Visit the ' +\n",
              "            '<a target=\"_blank\" href=https://colab.research.google.com/notebooks/data_table.ipynb>data table notebook</a>'\n",
              "            + ' to learn more about interactive tables.';\n",
              "          element.innerHTML = '';\n",
              "          dataTable['output_type'] = 'display_data';\n",
              "          await google.colab.output.renderOutput(dataTable, element);\n",
              "          const docLink = document.createElement('div');\n",
              "          docLink.innerHTML = docLinkHtml;\n",
              "          element.appendChild(docLink);\n",
              "        }\n",
              "      </script>\n",
              "    </div>\n",
              "  </div>\n",
              "  "
            ]
          },
          "metadata": {},
          "execution_count": 5
        }
      ],
      "source": [
        "Sales2.head()"
      ]
    },
    {
      "cell_type": "code",
      "execution_count": 6,
      "id": "f0f5533a",
      "metadata": {
        "colab": {
          "base_uri": "https://localhost:8080/",
          "height": 206
        },
        "id": "f0f5533a",
        "outputId": "cb9f6d7f-c262-49b1-b98a-93d6a7b5c949"
      },
      "outputs": [
        {
          "output_type": "execute_result",
          "data": {
            "text/plain": [
              "         date  product_identifier  department_identifier  \\\n",
              "0  2012-01-01                  74                     11   \n",
              "1  2012-01-01                 337                     11   \n",
              "2  2012-01-01                 423                     12   \n",
              "3  2012-01-01                 432                     12   \n",
              "4  2012-01-01                 581                     21   \n",
              "\n",
              "          category_of_product  outlet        state  sales  \n",
              "0                      others     111  Maharashtra      0  \n",
              "1                      others     111  Maharashtra      1  \n",
              "2                      others     111  Maharashtra      0  \n",
              "3                      others     111  Maharashtra      0  \n",
              "4  fast_moving_consumer_goods     111  Maharashtra      0  "
            ],
            "text/html": [
              "\n",
              "  <div id=\"df-faa608f7-aa19-4f57-80ba-0342844f3fd9\">\n",
              "    <div class=\"colab-df-container\">\n",
              "      <div>\n",
              "<style scoped>\n",
              "    .dataframe tbody tr th:only-of-type {\n",
              "        vertical-align: middle;\n",
              "    }\n",
              "\n",
              "    .dataframe tbody tr th {\n",
              "        vertical-align: top;\n",
              "    }\n",
              "\n",
              "    .dataframe thead th {\n",
              "        text-align: right;\n",
              "    }\n",
              "</style>\n",
              "<table border=\"1\" class=\"dataframe\">\n",
              "  <thead>\n",
              "    <tr style=\"text-align: right;\">\n",
              "      <th></th>\n",
              "      <th>date</th>\n",
              "      <th>product_identifier</th>\n",
              "      <th>department_identifier</th>\n",
              "      <th>category_of_product</th>\n",
              "      <th>outlet</th>\n",
              "      <th>state</th>\n",
              "      <th>sales</th>\n",
              "    </tr>\n",
              "  </thead>\n",
              "  <tbody>\n",
              "    <tr>\n",
              "      <th>0</th>\n",
              "      <td>2012-01-01</td>\n",
              "      <td>74</td>\n",
              "      <td>11</td>\n",
              "      <td>others</td>\n",
              "      <td>111</td>\n",
              "      <td>Maharashtra</td>\n",
              "      <td>0</td>\n",
              "    </tr>\n",
              "    <tr>\n",
              "      <th>1</th>\n",
              "      <td>2012-01-01</td>\n",
              "      <td>337</td>\n",
              "      <td>11</td>\n",
              "      <td>others</td>\n",
              "      <td>111</td>\n",
              "      <td>Maharashtra</td>\n",
              "      <td>1</td>\n",
              "    </tr>\n",
              "    <tr>\n",
              "      <th>2</th>\n",
              "      <td>2012-01-01</td>\n",
              "      <td>423</td>\n",
              "      <td>12</td>\n",
              "      <td>others</td>\n",
              "      <td>111</td>\n",
              "      <td>Maharashtra</td>\n",
              "      <td>0</td>\n",
              "    </tr>\n",
              "    <tr>\n",
              "      <th>3</th>\n",
              "      <td>2012-01-01</td>\n",
              "      <td>432</td>\n",
              "      <td>12</td>\n",
              "      <td>others</td>\n",
              "      <td>111</td>\n",
              "      <td>Maharashtra</td>\n",
              "      <td>0</td>\n",
              "    </tr>\n",
              "    <tr>\n",
              "      <th>4</th>\n",
              "      <td>2012-01-01</td>\n",
              "      <td>581</td>\n",
              "      <td>21</td>\n",
              "      <td>fast_moving_consumer_goods</td>\n",
              "      <td>111</td>\n",
              "      <td>Maharashtra</td>\n",
              "      <td>0</td>\n",
              "    </tr>\n",
              "  </tbody>\n",
              "</table>\n",
              "</div>\n",
              "      <button class=\"colab-df-convert\" onclick=\"convertToInteractive('df-faa608f7-aa19-4f57-80ba-0342844f3fd9')\"\n",
              "              title=\"Convert this dataframe to an interactive table.\"\n",
              "              style=\"display:none;\">\n",
              "        \n",
              "  <svg xmlns=\"http://www.w3.org/2000/svg\" height=\"24px\"viewBox=\"0 0 24 24\"\n",
              "       width=\"24px\">\n",
              "    <path d=\"M0 0h24v24H0V0z\" fill=\"none\"/>\n",
              "    <path d=\"M18.56 5.44l.94 2.06.94-2.06 2.06-.94-2.06-.94-.94-2.06-.94 2.06-2.06.94zm-11 1L8.5 8.5l.94-2.06 2.06-.94-2.06-.94L8.5 2.5l-.94 2.06-2.06.94zm10 10l.94 2.06.94-2.06 2.06-.94-2.06-.94-.94-2.06-.94 2.06-2.06.94z\"/><path d=\"M17.41 7.96l-1.37-1.37c-.4-.4-.92-.59-1.43-.59-.52 0-1.04.2-1.43.59L10.3 9.45l-7.72 7.72c-.78.78-.78 2.05 0 2.83L4 21.41c.39.39.9.59 1.41.59.51 0 1.02-.2 1.41-.59l7.78-7.78 2.81-2.81c.8-.78.8-2.07 0-2.86zM5.41 20L4 18.59l7.72-7.72 1.47 1.35L5.41 20z\"/>\n",
              "  </svg>\n",
              "      </button>\n",
              "      \n",
              "  <style>\n",
              "    .colab-df-container {\n",
              "      display:flex;\n",
              "      flex-wrap:wrap;\n",
              "      gap: 12px;\n",
              "    }\n",
              "\n",
              "    .colab-df-convert {\n",
              "      background-color: #E8F0FE;\n",
              "      border: none;\n",
              "      border-radius: 50%;\n",
              "      cursor: pointer;\n",
              "      display: none;\n",
              "      fill: #1967D2;\n",
              "      height: 32px;\n",
              "      padding: 0 0 0 0;\n",
              "      width: 32px;\n",
              "    }\n",
              "\n",
              "    .colab-df-convert:hover {\n",
              "      background-color: #E2EBFA;\n",
              "      box-shadow: 0px 1px 2px rgba(60, 64, 67, 0.3), 0px 1px 3px 1px rgba(60, 64, 67, 0.15);\n",
              "      fill: #174EA6;\n",
              "    }\n",
              "\n",
              "    [theme=dark] .colab-df-convert {\n",
              "      background-color: #3B4455;\n",
              "      fill: #D2E3FC;\n",
              "    }\n",
              "\n",
              "    [theme=dark] .colab-df-convert:hover {\n",
              "      background-color: #434B5C;\n",
              "      box-shadow: 0px 1px 3px 1px rgba(0, 0, 0, 0.15);\n",
              "      filter: drop-shadow(0px 1px 2px rgba(0, 0, 0, 0.3));\n",
              "      fill: #FFFFFF;\n",
              "    }\n",
              "  </style>\n",
              "\n",
              "      <script>\n",
              "        const buttonEl =\n",
              "          document.querySelector('#df-faa608f7-aa19-4f57-80ba-0342844f3fd9 button.colab-df-convert');\n",
              "        buttonEl.style.display =\n",
              "          google.colab.kernel.accessAllowed ? 'block' : 'none';\n",
              "\n",
              "        async function convertToInteractive(key) {\n",
              "          const element = document.querySelector('#df-faa608f7-aa19-4f57-80ba-0342844f3fd9');\n",
              "          const dataTable =\n",
              "            await google.colab.kernel.invokeFunction('convertToInteractive',\n",
              "                                                     [key], {});\n",
              "          if (!dataTable) return;\n",
              "\n",
              "          const docLinkHtml = 'Like what you see? Visit the ' +\n",
              "            '<a target=\"_blank\" href=https://colab.research.google.com/notebooks/data_table.ipynb>data table notebook</a>'\n",
              "            + ' to learn more about interactive tables.';\n",
              "          element.innerHTML = '';\n",
              "          dataTable['output_type'] = 'display_data';\n",
              "          await google.colab.output.renderOutput(dataTable, element);\n",
              "          const docLink = document.createElement('div');\n",
              "          docLink.innerHTML = docLinkHtml;\n",
              "          element.appendChild(docLink);\n",
              "        }\n",
              "      </script>\n",
              "    </div>\n",
              "  </div>\n",
              "  "
            ]
          },
          "metadata": {},
          "execution_count": 6
        }
      ],
      "source": [
        "Sales3.head()"
      ]
    },
    {
      "cell_type": "code",
      "execution_count": 7,
      "id": "11187063",
      "metadata": {
        "id": "11187063"
      },
      "outputs": [],
      "source": [
        "Sales3=Sales3.drop(['sales'],axis = 1)"
      ]
    },
    {
      "cell_type": "code",
      "execution_count": 8,
      "id": "8aabc768",
      "metadata": {
        "colab": {
          "base_uri": "https://localhost:8080/",
          "height": 206
        },
        "id": "8aabc768",
        "outputId": "a7d535e0-0838-422d-c8d5-1fa1e84cef79"
      },
      "outputs": [
        {
          "output_type": "execute_result",
          "data": {
            "text/plain": [
              "   id        date  product_identifier  department_identifier  \\\n",
              "0   1  2014-03-01                  74                     11   \n",
              "1   2  2014-03-01                 337                     11   \n",
              "2   3  2014-03-01                 423                     12   \n",
              "3   4  2014-03-01                 432                     12   \n",
              "4   5  2014-03-01                 581                     21   \n",
              "\n",
              "          category_of_product  outlet        state  \n",
              "0                      others     111  Maharashtra  \n",
              "1                      others     111  Maharashtra  \n",
              "2                      others     111  Maharashtra  \n",
              "3                      others     111  Maharashtra  \n",
              "4  fast_moving_consumer_goods     111  Maharashtra  "
            ],
            "text/html": [
              "\n",
              "  <div id=\"df-b8dd8ca3-846b-4980-b52a-cc6d77710a95\">\n",
              "    <div class=\"colab-df-container\">\n",
              "      <div>\n",
              "<style scoped>\n",
              "    .dataframe tbody tr th:only-of-type {\n",
              "        vertical-align: middle;\n",
              "    }\n",
              "\n",
              "    .dataframe tbody tr th {\n",
              "        vertical-align: top;\n",
              "    }\n",
              "\n",
              "    .dataframe thead th {\n",
              "        text-align: right;\n",
              "    }\n",
              "</style>\n",
              "<table border=\"1\" class=\"dataframe\">\n",
              "  <thead>\n",
              "    <tr style=\"text-align: right;\">\n",
              "      <th></th>\n",
              "      <th>id</th>\n",
              "      <th>date</th>\n",
              "      <th>product_identifier</th>\n",
              "      <th>department_identifier</th>\n",
              "      <th>category_of_product</th>\n",
              "      <th>outlet</th>\n",
              "      <th>state</th>\n",
              "    </tr>\n",
              "  </thead>\n",
              "  <tbody>\n",
              "    <tr>\n",
              "      <th>0</th>\n",
              "      <td>1</td>\n",
              "      <td>2014-03-01</td>\n",
              "      <td>74</td>\n",
              "      <td>11</td>\n",
              "      <td>others</td>\n",
              "      <td>111</td>\n",
              "      <td>Maharashtra</td>\n",
              "    </tr>\n",
              "    <tr>\n",
              "      <th>1</th>\n",
              "      <td>2</td>\n",
              "      <td>2014-03-01</td>\n",
              "      <td>337</td>\n",
              "      <td>11</td>\n",
              "      <td>others</td>\n",
              "      <td>111</td>\n",
              "      <td>Maharashtra</td>\n",
              "    </tr>\n",
              "    <tr>\n",
              "      <th>2</th>\n",
              "      <td>3</td>\n",
              "      <td>2014-03-01</td>\n",
              "      <td>423</td>\n",
              "      <td>12</td>\n",
              "      <td>others</td>\n",
              "      <td>111</td>\n",
              "      <td>Maharashtra</td>\n",
              "    </tr>\n",
              "    <tr>\n",
              "      <th>3</th>\n",
              "      <td>4</td>\n",
              "      <td>2014-03-01</td>\n",
              "      <td>432</td>\n",
              "      <td>12</td>\n",
              "      <td>others</td>\n",
              "      <td>111</td>\n",
              "      <td>Maharashtra</td>\n",
              "    </tr>\n",
              "    <tr>\n",
              "      <th>4</th>\n",
              "      <td>5</td>\n",
              "      <td>2014-03-01</td>\n",
              "      <td>581</td>\n",
              "      <td>21</td>\n",
              "      <td>fast_moving_consumer_goods</td>\n",
              "      <td>111</td>\n",
              "      <td>Maharashtra</td>\n",
              "    </tr>\n",
              "  </tbody>\n",
              "</table>\n",
              "</div>\n",
              "      <button class=\"colab-df-convert\" onclick=\"convertToInteractive('df-b8dd8ca3-846b-4980-b52a-cc6d77710a95')\"\n",
              "              title=\"Convert this dataframe to an interactive table.\"\n",
              "              style=\"display:none;\">\n",
              "        \n",
              "  <svg xmlns=\"http://www.w3.org/2000/svg\" height=\"24px\"viewBox=\"0 0 24 24\"\n",
              "       width=\"24px\">\n",
              "    <path d=\"M0 0h24v24H0V0z\" fill=\"none\"/>\n",
              "    <path d=\"M18.56 5.44l.94 2.06.94-2.06 2.06-.94-2.06-.94-.94-2.06-.94 2.06-2.06.94zm-11 1L8.5 8.5l.94-2.06 2.06-.94-2.06-.94L8.5 2.5l-.94 2.06-2.06.94zm10 10l.94 2.06.94-2.06 2.06-.94-2.06-.94-.94-2.06-.94 2.06-2.06.94z\"/><path d=\"M17.41 7.96l-1.37-1.37c-.4-.4-.92-.59-1.43-.59-.52 0-1.04.2-1.43.59L10.3 9.45l-7.72 7.72c-.78.78-.78 2.05 0 2.83L4 21.41c.39.39.9.59 1.41.59.51 0 1.02-.2 1.41-.59l7.78-7.78 2.81-2.81c.8-.78.8-2.07 0-2.86zM5.41 20L4 18.59l7.72-7.72 1.47 1.35L5.41 20z\"/>\n",
              "  </svg>\n",
              "      </button>\n",
              "      \n",
              "  <style>\n",
              "    .colab-df-container {\n",
              "      display:flex;\n",
              "      flex-wrap:wrap;\n",
              "      gap: 12px;\n",
              "    }\n",
              "\n",
              "    .colab-df-convert {\n",
              "      background-color: #E8F0FE;\n",
              "      border: none;\n",
              "      border-radius: 50%;\n",
              "      cursor: pointer;\n",
              "      display: none;\n",
              "      fill: #1967D2;\n",
              "      height: 32px;\n",
              "      padding: 0 0 0 0;\n",
              "      width: 32px;\n",
              "    }\n",
              "\n",
              "    .colab-df-convert:hover {\n",
              "      background-color: #E2EBFA;\n",
              "      box-shadow: 0px 1px 2px rgba(60, 64, 67, 0.3), 0px 1px 3px 1px rgba(60, 64, 67, 0.15);\n",
              "      fill: #174EA6;\n",
              "    }\n",
              "\n",
              "    [theme=dark] .colab-df-convert {\n",
              "      background-color: #3B4455;\n",
              "      fill: #D2E3FC;\n",
              "    }\n",
              "\n",
              "    [theme=dark] .colab-df-convert:hover {\n",
              "      background-color: #434B5C;\n",
              "      box-shadow: 0px 1px 3px 1px rgba(0, 0, 0, 0.15);\n",
              "      filter: drop-shadow(0px 1px 2px rgba(0, 0, 0, 0.3));\n",
              "      fill: #FFFFFF;\n",
              "    }\n",
              "  </style>\n",
              "\n",
              "      <script>\n",
              "        const buttonEl =\n",
              "          document.querySelector('#df-b8dd8ca3-846b-4980-b52a-cc6d77710a95 button.colab-df-convert');\n",
              "        buttonEl.style.display =\n",
              "          google.colab.kernel.accessAllowed ? 'block' : 'none';\n",
              "\n",
              "        async function convertToInteractive(key) {\n",
              "          const element = document.querySelector('#df-b8dd8ca3-846b-4980-b52a-cc6d77710a95');\n",
              "          const dataTable =\n",
              "            await google.colab.kernel.invokeFunction('convertToInteractive',\n",
              "                                                     [key], {});\n",
              "          if (!dataTable) return;\n",
              "\n",
              "          const docLinkHtml = 'Like what you see? Visit the ' +\n",
              "            '<a target=\"_blank\" href=https://colab.research.google.com/notebooks/data_table.ipynb>data table notebook</a>'\n",
              "            + ' to learn more about interactive tables.';\n",
              "          element.innerHTML = '';\n",
              "          dataTable['output_type'] = 'display_data';\n",
              "          await google.colab.output.renderOutput(dataTable, element);\n",
              "          const docLink = document.createElement('div');\n",
              "          docLink.innerHTML = docLinkHtml;\n",
              "          element.appendChild(docLink);\n",
              "        }\n",
              "      </script>\n",
              "    </div>\n",
              "  </div>\n",
              "  "
            ]
          },
          "metadata": {},
          "execution_count": 8
        }
      ],
      "source": [
        "Sales4.head()"
      ]
    },
    {
      "cell_type": "code",
      "execution_count": 9,
      "id": "8c8a69dd",
      "metadata": {
        "id": "8c8a69dd"
      },
      "outputs": [],
      "source": [
        "Sales4 = Sales4.drop(['id'], axis=1)"
      ]
    },
    {
      "cell_type": "code",
      "execution_count": 10,
      "id": "3c6a6719",
      "metadata": {
        "id": "3c6a6719"
      },
      "outputs": [],
      "source": [
        "df1 = pd.merge(Sales1, Sales2, on=['week_id'])"
      ]
    },
    {
      "cell_type": "code",
      "execution_count": 11,
      "id": "90228ecd",
      "metadata": {
        "colab": {
          "base_uri": "https://localhost:8080/"
        },
        "id": "90228ecd",
        "outputId": "37b10f04-cc8a-4271-9515-6aad58c05e54"
      },
      "outputs": [
        {
          "output_type": "execute_result",
          "data": {
            "text/plain": [
              "Index(['date', 'week_id', 'outlet', 'product_identifier', 'sell_price'], dtype='object')"
            ]
          },
          "metadata": {},
          "execution_count": 11
        }
      ],
      "source": [
        "df1.columns"
      ]
    },
    {
      "cell_type": "code",
      "execution_count": 12,
      "id": "ddc7d9ac",
      "metadata": {
        "id": "ddc7d9ac"
      },
      "outputs": [],
      "source": [
        "df_train = pd.merge(df1, Sales3)"
      ]
    },
    {
      "cell_type": "code",
      "execution_count": 13,
      "id": "2fbb800e",
      "metadata": {
        "colab": {
          "base_uri": "https://localhost:8080/"
        },
        "id": "2fbb800e",
        "outputId": "837f4418-e284-4fa0-c762-00fdb51b7762"
      },
      "outputs": [
        {
          "output_type": "execute_result",
          "data": {
            "text/plain": [
              "Index(['date', 'week_id', 'outlet', 'product_identifier', 'sell_price',\n",
              "       'department_identifier', 'category_of_product', 'state'],\n",
              "      dtype='object')"
            ]
          },
          "metadata": {},
          "execution_count": 13
        }
      ],
      "source": [
        "df_train.columns"
      ]
    },
    {
      "cell_type": "code",
      "execution_count": 14,
      "id": "2b16ad5f",
      "metadata": {
        "colab": {
          "base_uri": "https://localhost:8080/",
          "height": 206
        },
        "id": "2b16ad5f",
        "outputId": "4520a527-5791-4633-e0c8-8af2c9f86d74"
      },
      "outputs": [
        {
          "output_type": "execute_result",
          "data": {
            "text/plain": [
              "         date  week_id  outlet  product_identifier  sell_price  \\\n",
              "0  2012-01-01       49     111                  74        2.94   \n",
              "1  2012-01-01       49     111                 337        7.44   \n",
              "2  2012-01-01       49     111                 423        0.97   \n",
              "3  2012-01-01       49     111                 432        4.97   \n",
              "4  2012-01-01       49     111                 581        4.88   \n",
              "\n",
              "   department_identifier         category_of_product        state  \n",
              "0                     11                      others  Maharashtra  \n",
              "1                     11                      others  Maharashtra  \n",
              "2                     12                      others  Maharashtra  \n",
              "3                     12                      others  Maharashtra  \n",
              "4                     21  fast_moving_consumer_goods  Maharashtra  "
            ],
            "text/html": [
              "\n",
              "  <div id=\"df-639ba0ba-ffc1-4033-bba7-60c7b7576aaa\">\n",
              "    <div class=\"colab-df-container\">\n",
              "      <div>\n",
              "<style scoped>\n",
              "    .dataframe tbody tr th:only-of-type {\n",
              "        vertical-align: middle;\n",
              "    }\n",
              "\n",
              "    .dataframe tbody tr th {\n",
              "        vertical-align: top;\n",
              "    }\n",
              "\n",
              "    .dataframe thead th {\n",
              "        text-align: right;\n",
              "    }\n",
              "</style>\n",
              "<table border=\"1\" class=\"dataframe\">\n",
              "  <thead>\n",
              "    <tr style=\"text-align: right;\">\n",
              "      <th></th>\n",
              "      <th>date</th>\n",
              "      <th>week_id</th>\n",
              "      <th>outlet</th>\n",
              "      <th>product_identifier</th>\n",
              "      <th>sell_price</th>\n",
              "      <th>department_identifier</th>\n",
              "      <th>category_of_product</th>\n",
              "      <th>state</th>\n",
              "    </tr>\n",
              "  </thead>\n",
              "  <tbody>\n",
              "    <tr>\n",
              "      <th>0</th>\n",
              "      <td>2012-01-01</td>\n",
              "      <td>49</td>\n",
              "      <td>111</td>\n",
              "      <td>74</td>\n",
              "      <td>2.94</td>\n",
              "      <td>11</td>\n",
              "      <td>others</td>\n",
              "      <td>Maharashtra</td>\n",
              "    </tr>\n",
              "    <tr>\n",
              "      <th>1</th>\n",
              "      <td>2012-01-01</td>\n",
              "      <td>49</td>\n",
              "      <td>111</td>\n",
              "      <td>337</td>\n",
              "      <td>7.44</td>\n",
              "      <td>11</td>\n",
              "      <td>others</td>\n",
              "      <td>Maharashtra</td>\n",
              "    </tr>\n",
              "    <tr>\n",
              "      <th>2</th>\n",
              "      <td>2012-01-01</td>\n",
              "      <td>49</td>\n",
              "      <td>111</td>\n",
              "      <td>423</td>\n",
              "      <td>0.97</td>\n",
              "      <td>12</td>\n",
              "      <td>others</td>\n",
              "      <td>Maharashtra</td>\n",
              "    </tr>\n",
              "    <tr>\n",
              "      <th>3</th>\n",
              "      <td>2012-01-01</td>\n",
              "      <td>49</td>\n",
              "      <td>111</td>\n",
              "      <td>432</td>\n",
              "      <td>4.97</td>\n",
              "      <td>12</td>\n",
              "      <td>others</td>\n",
              "      <td>Maharashtra</td>\n",
              "    </tr>\n",
              "    <tr>\n",
              "      <th>4</th>\n",
              "      <td>2012-01-01</td>\n",
              "      <td>49</td>\n",
              "      <td>111</td>\n",
              "      <td>581</td>\n",
              "      <td>4.88</td>\n",
              "      <td>21</td>\n",
              "      <td>fast_moving_consumer_goods</td>\n",
              "      <td>Maharashtra</td>\n",
              "    </tr>\n",
              "  </tbody>\n",
              "</table>\n",
              "</div>\n",
              "      <button class=\"colab-df-convert\" onclick=\"convertToInteractive('df-639ba0ba-ffc1-4033-bba7-60c7b7576aaa')\"\n",
              "              title=\"Convert this dataframe to an interactive table.\"\n",
              "              style=\"display:none;\">\n",
              "        \n",
              "  <svg xmlns=\"http://www.w3.org/2000/svg\" height=\"24px\"viewBox=\"0 0 24 24\"\n",
              "       width=\"24px\">\n",
              "    <path d=\"M0 0h24v24H0V0z\" fill=\"none\"/>\n",
              "    <path d=\"M18.56 5.44l.94 2.06.94-2.06 2.06-.94-2.06-.94-.94-2.06-.94 2.06-2.06.94zm-11 1L8.5 8.5l.94-2.06 2.06-.94-2.06-.94L8.5 2.5l-.94 2.06-2.06.94zm10 10l.94 2.06.94-2.06 2.06-.94-2.06-.94-.94-2.06-.94 2.06-2.06.94z\"/><path d=\"M17.41 7.96l-1.37-1.37c-.4-.4-.92-.59-1.43-.59-.52 0-1.04.2-1.43.59L10.3 9.45l-7.72 7.72c-.78.78-.78 2.05 0 2.83L4 21.41c.39.39.9.59 1.41.59.51 0 1.02-.2 1.41-.59l7.78-7.78 2.81-2.81c.8-.78.8-2.07 0-2.86zM5.41 20L4 18.59l7.72-7.72 1.47 1.35L5.41 20z\"/>\n",
              "  </svg>\n",
              "      </button>\n",
              "      \n",
              "  <style>\n",
              "    .colab-df-container {\n",
              "      display:flex;\n",
              "      flex-wrap:wrap;\n",
              "      gap: 12px;\n",
              "    }\n",
              "\n",
              "    .colab-df-convert {\n",
              "      background-color: #E8F0FE;\n",
              "      border: none;\n",
              "      border-radius: 50%;\n",
              "      cursor: pointer;\n",
              "      display: none;\n",
              "      fill: #1967D2;\n",
              "      height: 32px;\n",
              "      padding: 0 0 0 0;\n",
              "      width: 32px;\n",
              "    }\n",
              "\n",
              "    .colab-df-convert:hover {\n",
              "      background-color: #E2EBFA;\n",
              "      box-shadow: 0px 1px 2px rgba(60, 64, 67, 0.3), 0px 1px 3px 1px rgba(60, 64, 67, 0.15);\n",
              "      fill: #174EA6;\n",
              "    }\n",
              "\n",
              "    [theme=dark] .colab-df-convert {\n",
              "      background-color: #3B4455;\n",
              "      fill: #D2E3FC;\n",
              "    }\n",
              "\n",
              "    [theme=dark] .colab-df-convert:hover {\n",
              "      background-color: #434B5C;\n",
              "      box-shadow: 0px 1px 3px 1px rgba(0, 0, 0, 0.15);\n",
              "      filter: drop-shadow(0px 1px 2px rgba(0, 0, 0, 0.3));\n",
              "      fill: #FFFFFF;\n",
              "    }\n",
              "  </style>\n",
              "\n",
              "      <script>\n",
              "        const buttonEl =\n",
              "          document.querySelector('#df-639ba0ba-ffc1-4033-bba7-60c7b7576aaa button.colab-df-convert');\n",
              "        buttonEl.style.display =\n",
              "          google.colab.kernel.accessAllowed ? 'block' : 'none';\n",
              "\n",
              "        async function convertToInteractive(key) {\n",
              "          const element = document.querySelector('#df-639ba0ba-ffc1-4033-bba7-60c7b7576aaa');\n",
              "          const dataTable =\n",
              "            await google.colab.kernel.invokeFunction('convertToInteractive',\n",
              "                                                     [key], {});\n",
              "          if (!dataTable) return;\n",
              "\n",
              "          const docLinkHtml = 'Like what you see? Visit the ' +\n",
              "            '<a target=\"_blank\" href=https://colab.research.google.com/notebooks/data_table.ipynb>data table notebook</a>'\n",
              "            + ' to learn more about interactive tables.';\n",
              "          element.innerHTML = '';\n",
              "          dataTable['output_type'] = 'display_data';\n",
              "          await google.colab.output.renderOutput(dataTable, element);\n",
              "          const docLink = document.createElement('div');\n",
              "          docLink.innerHTML = docLinkHtml;\n",
              "          element.appendChild(docLink);\n",
              "        }\n",
              "      </script>\n",
              "    </div>\n",
              "  </div>\n",
              "  "
            ]
          },
          "metadata": {},
          "execution_count": 14
        }
      ],
      "source": [
        "df_train.head()"
      ]
    },
    {
      "cell_type": "code",
      "execution_count": 15,
      "id": "8ed6ce7e",
      "metadata": {
        "colab": {
          "base_uri": "https://localhost:8080/"
        },
        "id": "8ed6ce7e",
        "outputId": "47757847-2e68-47db-fb39-2f4a1ade8b5f"
      },
      "outputs": [
        {
          "output_type": "stream",
          "name": "stdout",
          "text": [
            "<class 'pandas.core.frame.DataFrame'>\n",
            "Int64Index: 395000 entries, 0 to 394999\n",
            "Data columns (total 8 columns):\n",
            " #   Column                 Non-Null Count   Dtype  \n",
            "---  ------                 --------------   -----  \n",
            " 0   date                   395000 non-null  object \n",
            " 1   week_id                395000 non-null  int64  \n",
            " 2   outlet                 395000 non-null  int64  \n",
            " 3   product_identifier     395000 non-null  int64  \n",
            " 4   sell_price             395000 non-null  float64\n",
            " 5   department_identifier  395000 non-null  int64  \n",
            " 6   category_of_product    395000 non-null  object \n",
            " 7   state                  395000 non-null  object \n",
            "dtypes: float64(1), int64(4), object(3)\n",
            "memory usage: 27.1+ MB\n"
          ]
        }
      ],
      "source": [
        "df_train.info()"
      ]
    },
    {
      "cell_type": "code",
      "execution_count": 16,
      "id": "586e9bd8",
      "metadata": {
        "colab": {
          "base_uri": "https://localhost:8080/"
        },
        "id": "586e9bd8",
        "outputId": "79605e6b-1b61-4299-ec21-164d3b70564e"
      },
      "outputs": [
        {
          "output_type": "execute_result",
          "data": {
            "text/plain": [
              "(395000, 8)"
            ]
          },
          "metadata": {},
          "execution_count": 16
        }
      ],
      "source": [
        "df_train.shape"
      ]
    },
    {
      "cell_type": "code",
      "execution_count": 17,
      "id": "8d96a597",
      "metadata": {
        "id": "8d96a597"
      },
      "outputs": [],
      "source": [
        "df_test = pd.merge(df1, Sales4)"
      ]
    },
    {
      "cell_type": "code",
      "execution_count": 18,
      "id": "2dbc1b6c",
      "metadata": {
        "colab": {
          "base_uri": "https://localhost:8080/",
          "height": 206
        },
        "id": "2dbc1b6c",
        "outputId": "dacd72b8-afee-4bf4-bfb1-86d5da81e1ec"
      },
      "outputs": [
        {
          "output_type": "execute_result",
          "data": {
            "text/plain": [
              "         date  week_id  outlet  product_identifier  sell_price  \\\n",
              "0  2014-03-01      162     111                  74        3.43   \n",
              "1  2014-03-01      162     111                 337        7.78   \n",
              "2  2014-03-01      162     111                 423        0.97   \n",
              "3  2014-03-01      162     111                 432        4.97   \n",
              "4  2014-03-01      162     111                 581        4.88   \n",
              "\n",
              "   department_identifier         category_of_product        state  \n",
              "0                     11                      others  Maharashtra  \n",
              "1                     11                      others  Maharashtra  \n",
              "2                     12                      others  Maharashtra  \n",
              "3                     12                      others  Maharashtra  \n",
              "4                     21  fast_moving_consumer_goods  Maharashtra  "
            ],
            "text/html": [
              "\n",
              "  <div id=\"df-c8e86719-df89-4197-aa3b-e2a643ba510d\">\n",
              "    <div class=\"colab-df-container\">\n",
              "      <div>\n",
              "<style scoped>\n",
              "    .dataframe tbody tr th:only-of-type {\n",
              "        vertical-align: middle;\n",
              "    }\n",
              "\n",
              "    .dataframe tbody tr th {\n",
              "        vertical-align: top;\n",
              "    }\n",
              "\n",
              "    .dataframe thead th {\n",
              "        text-align: right;\n",
              "    }\n",
              "</style>\n",
              "<table border=\"1\" class=\"dataframe\">\n",
              "  <thead>\n",
              "    <tr style=\"text-align: right;\">\n",
              "      <th></th>\n",
              "      <th>date</th>\n",
              "      <th>week_id</th>\n",
              "      <th>outlet</th>\n",
              "      <th>product_identifier</th>\n",
              "      <th>sell_price</th>\n",
              "      <th>department_identifier</th>\n",
              "      <th>category_of_product</th>\n",
              "      <th>state</th>\n",
              "    </tr>\n",
              "  </thead>\n",
              "  <tbody>\n",
              "    <tr>\n",
              "      <th>0</th>\n",
              "      <td>2014-03-01</td>\n",
              "      <td>162</td>\n",
              "      <td>111</td>\n",
              "      <td>74</td>\n",
              "      <td>3.43</td>\n",
              "      <td>11</td>\n",
              "      <td>others</td>\n",
              "      <td>Maharashtra</td>\n",
              "    </tr>\n",
              "    <tr>\n",
              "      <th>1</th>\n",
              "      <td>2014-03-01</td>\n",
              "      <td>162</td>\n",
              "      <td>111</td>\n",
              "      <td>337</td>\n",
              "      <td>7.78</td>\n",
              "      <td>11</td>\n",
              "      <td>others</td>\n",
              "      <td>Maharashtra</td>\n",
              "    </tr>\n",
              "    <tr>\n",
              "      <th>2</th>\n",
              "      <td>2014-03-01</td>\n",
              "      <td>162</td>\n",
              "      <td>111</td>\n",
              "      <td>423</td>\n",
              "      <td>0.97</td>\n",
              "      <td>12</td>\n",
              "      <td>others</td>\n",
              "      <td>Maharashtra</td>\n",
              "    </tr>\n",
              "    <tr>\n",
              "      <th>3</th>\n",
              "      <td>2014-03-01</td>\n",
              "      <td>162</td>\n",
              "      <td>111</td>\n",
              "      <td>432</td>\n",
              "      <td>4.97</td>\n",
              "      <td>12</td>\n",
              "      <td>others</td>\n",
              "      <td>Maharashtra</td>\n",
              "    </tr>\n",
              "    <tr>\n",
              "      <th>4</th>\n",
              "      <td>2014-03-01</td>\n",
              "      <td>162</td>\n",
              "      <td>111</td>\n",
              "      <td>581</td>\n",
              "      <td>4.88</td>\n",
              "      <td>21</td>\n",
              "      <td>fast_moving_consumer_goods</td>\n",
              "      <td>Maharashtra</td>\n",
              "    </tr>\n",
              "  </tbody>\n",
              "</table>\n",
              "</div>\n",
              "      <button class=\"colab-df-convert\" onclick=\"convertToInteractive('df-c8e86719-df89-4197-aa3b-e2a643ba510d')\"\n",
              "              title=\"Convert this dataframe to an interactive table.\"\n",
              "              style=\"display:none;\">\n",
              "        \n",
              "  <svg xmlns=\"http://www.w3.org/2000/svg\" height=\"24px\"viewBox=\"0 0 24 24\"\n",
              "       width=\"24px\">\n",
              "    <path d=\"M0 0h24v24H0V0z\" fill=\"none\"/>\n",
              "    <path d=\"M18.56 5.44l.94 2.06.94-2.06 2.06-.94-2.06-.94-.94-2.06-.94 2.06-2.06.94zm-11 1L8.5 8.5l.94-2.06 2.06-.94-2.06-.94L8.5 2.5l-.94 2.06-2.06.94zm10 10l.94 2.06.94-2.06 2.06-.94-2.06-.94-.94-2.06-.94 2.06-2.06.94z\"/><path d=\"M17.41 7.96l-1.37-1.37c-.4-.4-.92-.59-1.43-.59-.52 0-1.04.2-1.43.59L10.3 9.45l-7.72 7.72c-.78.78-.78 2.05 0 2.83L4 21.41c.39.39.9.59 1.41.59.51 0 1.02-.2 1.41-.59l7.78-7.78 2.81-2.81c.8-.78.8-2.07 0-2.86zM5.41 20L4 18.59l7.72-7.72 1.47 1.35L5.41 20z\"/>\n",
              "  </svg>\n",
              "      </button>\n",
              "      \n",
              "  <style>\n",
              "    .colab-df-container {\n",
              "      display:flex;\n",
              "      flex-wrap:wrap;\n",
              "      gap: 12px;\n",
              "    }\n",
              "\n",
              "    .colab-df-convert {\n",
              "      background-color: #E8F0FE;\n",
              "      border: none;\n",
              "      border-radius: 50%;\n",
              "      cursor: pointer;\n",
              "      display: none;\n",
              "      fill: #1967D2;\n",
              "      height: 32px;\n",
              "      padding: 0 0 0 0;\n",
              "      width: 32px;\n",
              "    }\n",
              "\n",
              "    .colab-df-convert:hover {\n",
              "      background-color: #E2EBFA;\n",
              "      box-shadow: 0px 1px 2px rgba(60, 64, 67, 0.3), 0px 1px 3px 1px rgba(60, 64, 67, 0.15);\n",
              "      fill: #174EA6;\n",
              "    }\n",
              "\n",
              "    [theme=dark] .colab-df-convert {\n",
              "      background-color: #3B4455;\n",
              "      fill: #D2E3FC;\n",
              "    }\n",
              "\n",
              "    [theme=dark] .colab-df-convert:hover {\n",
              "      background-color: #434B5C;\n",
              "      box-shadow: 0px 1px 3px 1px rgba(0, 0, 0, 0.15);\n",
              "      filter: drop-shadow(0px 1px 2px rgba(0, 0, 0, 0.3));\n",
              "      fill: #FFFFFF;\n",
              "    }\n",
              "  </style>\n",
              "\n",
              "      <script>\n",
              "        const buttonEl =\n",
              "          document.querySelector('#df-c8e86719-df89-4197-aa3b-e2a643ba510d button.colab-df-convert');\n",
              "        buttonEl.style.display =\n",
              "          google.colab.kernel.accessAllowed ? 'block' : 'none';\n",
              "\n",
              "        async function convertToInteractive(key) {\n",
              "          const element = document.querySelector('#df-c8e86719-df89-4197-aa3b-e2a643ba510d');\n",
              "          const dataTable =\n",
              "            await google.colab.kernel.invokeFunction('convertToInteractive',\n",
              "                                                     [key], {});\n",
              "          if (!dataTable) return;\n",
              "\n",
              "          const docLinkHtml = 'Like what you see? Visit the ' +\n",
              "            '<a target=\"_blank\" href=https://colab.research.google.com/notebooks/data_table.ipynb>data table notebook</a>'\n",
              "            + ' to learn more about interactive tables.';\n",
              "          element.innerHTML = '';\n",
              "          dataTable['output_type'] = 'display_data';\n",
              "          await google.colab.output.renderOutput(dataTable, element);\n",
              "          const docLink = document.createElement('div');\n",
              "          docLink.innerHTML = docLinkHtml;\n",
              "          element.appendChild(docLink);\n",
              "        }\n",
              "      </script>\n",
              "    </div>\n",
              "  </div>\n",
              "  "
            ]
          },
          "metadata": {},
          "execution_count": 18
        }
      ],
      "source": [
        "df_test.head()"
      ]
    },
    {
      "cell_type": "code",
      "execution_count": 19,
      "id": "515744ff",
      "metadata": {
        "colab": {
          "base_uri": "https://localhost:8080/"
        },
        "id": "515744ff",
        "outputId": "b0fd5833-9960-4f2a-9b86-9fcd5dd42950"
      },
      "outputs": [
        {
          "output_type": "stream",
          "name": "stdout",
          "text": [
            "<class 'pandas.core.frame.DataFrame'>\n",
            "Int64Index: 15500 entries, 0 to 15499\n",
            "Data columns (total 8 columns):\n",
            " #   Column                 Non-Null Count  Dtype  \n",
            "---  ------                 --------------  -----  \n",
            " 0   date                   15500 non-null  object \n",
            " 1   week_id                15500 non-null  int64  \n",
            " 2   outlet                 15500 non-null  int64  \n",
            " 3   product_identifier     15500 non-null  int64  \n",
            " 4   sell_price             15500 non-null  float64\n",
            " 5   department_identifier  15500 non-null  int64  \n",
            " 6   category_of_product    15500 non-null  object \n",
            " 7   state                  15500 non-null  object \n",
            "dtypes: float64(1), int64(4), object(3)\n",
            "memory usage: 1.1+ MB\n"
          ]
        }
      ],
      "source": [
        "df_test.info()"
      ]
    },
    {
      "cell_type": "code",
      "execution_count": 20,
      "id": "3346503e",
      "metadata": {
        "colab": {
          "base_uri": "https://localhost:8080/"
        },
        "id": "3346503e",
        "outputId": "7c451c35-792b-4667-8f59-fcf5edb3d0c4"
      },
      "outputs": [
        {
          "output_type": "execute_result",
          "data": {
            "text/plain": [
              "(15500, 8)"
            ]
          },
          "metadata": {},
          "execution_count": 20
        }
      ],
      "source": [
        "df_test.shape"
      ]
    },
    {
      "cell_type": "markdown",
      "id": "148258df",
      "metadata": {
        "id": "148258df"
      },
      "source": [
        "## 5. Identifying and handling missing values"
      ]
    },
    {
      "cell_type": "code",
      "execution_count": 21,
      "id": "61424e3b",
      "metadata": {
        "colab": {
          "base_uri": "https://localhost:8080/"
        },
        "id": "61424e3b",
        "outputId": "5116196e-48b6-4634-c85e-9048a814cbe1"
      },
      "outputs": [
        {
          "output_type": "stream",
          "name": "stdout",
          "text": [
            "train \n",
            "\n",
            "date                     0\n",
            "week_id                  0\n",
            "outlet                   0\n",
            "product_identifier       0\n",
            "sell_price               0\n",
            "department_identifier    0\n",
            "category_of_product      0\n",
            "state                    0\n",
            "dtype: int64\n",
            "test \n",
            "\n",
            "date                     0\n",
            "week_id                  0\n",
            "outlet                   0\n",
            "product_identifier       0\n",
            "sell_price               0\n",
            "department_identifier    0\n",
            "category_of_product      0\n",
            "state                    0\n",
            "dtype: int64\n"
          ]
        }
      ],
      "source": [
        "print('train','\\n')\n",
        "print(df_train.isna().sum())\n",
        "print('test','\\n')\n",
        "print(df_test.isna().sum())"
      ]
    },
    {
      "cell_type": "code",
      "execution_count": 22,
      "id": "3251eebc",
      "metadata": {
        "colab": {
          "base_uri": "https://localhost:8080/"
        },
        "id": "3251eebc",
        "outputId": "09300915-d2ef-4d0a-96b0-52d2853f0002"
      },
      "outputs": [
        {
          "output_type": "execute_result",
          "data": {
            "text/plain": [
              "date                     0.0\n",
              "week_id                  0.0\n",
              "outlet                   0.0\n",
              "product_identifier       0.0\n",
              "sell_price               0.0\n",
              "department_identifier    0.0\n",
              "category_of_product      0.0\n",
              "state                    0.0\n",
              "dtype: float64"
            ]
          },
          "metadata": {},
          "execution_count": 22
        }
      ],
      "source": [
        "df_train.isna().mean()*100"
      ]
    },
    {
      "cell_type": "code",
      "execution_count": 23,
      "id": "d82ca773",
      "metadata": {
        "colab": {
          "base_uri": "https://localhost:8080/"
        },
        "id": "d82ca773",
        "outputId": "07670524-9701-4304-91b7-fd5954d8b13d"
      },
      "outputs": [
        {
          "output_type": "execute_result",
          "data": {
            "text/plain": [
              "date                     0.0\n",
              "week_id                  0.0\n",
              "outlet                   0.0\n",
              "product_identifier       0.0\n",
              "sell_price               0.0\n",
              "department_identifier    0.0\n",
              "category_of_product      0.0\n",
              "state                    0.0\n",
              "dtype: float64"
            ]
          },
          "metadata": {},
          "execution_count": 23
        }
      ],
      "source": [
        "df_test.isna().mean()*100"
      ]
    },
    {
      "cell_type": "code",
      "execution_count": 24,
      "id": "cdec297a",
      "metadata": {
        "colab": {
          "base_uri": "https://localhost:8080/",
          "height": 300
        },
        "id": "cdec297a",
        "outputId": "2bd01862-074b-46e4-cd1a-56e719277462"
      },
      "outputs": [
        {
          "output_type": "execute_result",
          "data": {
            "text/plain": [
              "             week_id         outlet  product_identifier     sell_price  \\\n",
              "count  395000.000000  395000.000000       395000.000000  395000.000000   \n",
              "mean      105.070886     211.200000         1509.960000       4.987644   \n",
              "std        32.578749      91.161291          809.799518       3.874444   \n",
              "min        49.000000     111.000000           74.000000       0.050000   \n",
              "25%        77.000000     113.000000          926.000000       2.680000   \n",
              "50%       105.000000     221.500000         1325.000000       3.980000   \n",
              "75%       133.000000     331.000000         1753.000000       6.480000   \n",
              "max       161.000000     333.000000         3021.000000      44.360000   \n",
              "\n",
              "       department_identifier  \n",
              "count          395000.000000  \n",
              "mean               24.460000  \n",
              "std                 6.337863  \n",
              "min                11.000000  \n",
              "25%                21.000000  \n",
              "50%                22.000000  \n",
              "75%                31.000000  \n",
              "max                33.000000  "
            ],
            "text/html": [
              "\n",
              "  <div id=\"df-71d67e5c-b77c-4068-9b68-a46784ba4cc5\">\n",
              "    <div class=\"colab-df-container\">\n",
              "      <div>\n",
              "<style scoped>\n",
              "    .dataframe tbody tr th:only-of-type {\n",
              "        vertical-align: middle;\n",
              "    }\n",
              "\n",
              "    .dataframe tbody tr th {\n",
              "        vertical-align: top;\n",
              "    }\n",
              "\n",
              "    .dataframe thead th {\n",
              "        text-align: right;\n",
              "    }\n",
              "</style>\n",
              "<table border=\"1\" class=\"dataframe\">\n",
              "  <thead>\n",
              "    <tr style=\"text-align: right;\">\n",
              "      <th></th>\n",
              "      <th>week_id</th>\n",
              "      <th>outlet</th>\n",
              "      <th>product_identifier</th>\n",
              "      <th>sell_price</th>\n",
              "      <th>department_identifier</th>\n",
              "    </tr>\n",
              "  </thead>\n",
              "  <tbody>\n",
              "    <tr>\n",
              "      <th>count</th>\n",
              "      <td>395000.000000</td>\n",
              "      <td>395000.000000</td>\n",
              "      <td>395000.000000</td>\n",
              "      <td>395000.000000</td>\n",
              "      <td>395000.000000</td>\n",
              "    </tr>\n",
              "    <tr>\n",
              "      <th>mean</th>\n",
              "      <td>105.070886</td>\n",
              "      <td>211.200000</td>\n",
              "      <td>1509.960000</td>\n",
              "      <td>4.987644</td>\n",
              "      <td>24.460000</td>\n",
              "    </tr>\n",
              "    <tr>\n",
              "      <th>std</th>\n",
              "      <td>32.578749</td>\n",
              "      <td>91.161291</td>\n",
              "      <td>809.799518</td>\n",
              "      <td>3.874444</td>\n",
              "      <td>6.337863</td>\n",
              "    </tr>\n",
              "    <tr>\n",
              "      <th>min</th>\n",
              "      <td>49.000000</td>\n",
              "      <td>111.000000</td>\n",
              "      <td>74.000000</td>\n",
              "      <td>0.050000</td>\n",
              "      <td>11.000000</td>\n",
              "    </tr>\n",
              "    <tr>\n",
              "      <th>25%</th>\n",
              "      <td>77.000000</td>\n",
              "      <td>113.000000</td>\n",
              "      <td>926.000000</td>\n",
              "      <td>2.680000</td>\n",
              "      <td>21.000000</td>\n",
              "    </tr>\n",
              "    <tr>\n",
              "      <th>50%</th>\n",
              "      <td>105.000000</td>\n",
              "      <td>221.500000</td>\n",
              "      <td>1325.000000</td>\n",
              "      <td>3.980000</td>\n",
              "      <td>22.000000</td>\n",
              "    </tr>\n",
              "    <tr>\n",
              "      <th>75%</th>\n",
              "      <td>133.000000</td>\n",
              "      <td>331.000000</td>\n",
              "      <td>1753.000000</td>\n",
              "      <td>6.480000</td>\n",
              "      <td>31.000000</td>\n",
              "    </tr>\n",
              "    <tr>\n",
              "      <th>max</th>\n",
              "      <td>161.000000</td>\n",
              "      <td>333.000000</td>\n",
              "      <td>3021.000000</td>\n",
              "      <td>44.360000</td>\n",
              "      <td>33.000000</td>\n",
              "    </tr>\n",
              "  </tbody>\n",
              "</table>\n",
              "</div>\n",
              "      <button class=\"colab-df-convert\" onclick=\"convertToInteractive('df-71d67e5c-b77c-4068-9b68-a46784ba4cc5')\"\n",
              "              title=\"Convert this dataframe to an interactive table.\"\n",
              "              style=\"display:none;\">\n",
              "        \n",
              "  <svg xmlns=\"http://www.w3.org/2000/svg\" height=\"24px\"viewBox=\"0 0 24 24\"\n",
              "       width=\"24px\">\n",
              "    <path d=\"M0 0h24v24H0V0z\" fill=\"none\"/>\n",
              "    <path d=\"M18.56 5.44l.94 2.06.94-2.06 2.06-.94-2.06-.94-.94-2.06-.94 2.06-2.06.94zm-11 1L8.5 8.5l.94-2.06 2.06-.94-2.06-.94L8.5 2.5l-.94 2.06-2.06.94zm10 10l.94 2.06.94-2.06 2.06-.94-2.06-.94-.94-2.06-.94 2.06-2.06.94z\"/><path d=\"M17.41 7.96l-1.37-1.37c-.4-.4-.92-.59-1.43-.59-.52 0-1.04.2-1.43.59L10.3 9.45l-7.72 7.72c-.78.78-.78 2.05 0 2.83L4 21.41c.39.39.9.59 1.41.59.51 0 1.02-.2 1.41-.59l7.78-7.78 2.81-2.81c.8-.78.8-2.07 0-2.86zM5.41 20L4 18.59l7.72-7.72 1.47 1.35L5.41 20z\"/>\n",
              "  </svg>\n",
              "      </button>\n",
              "      \n",
              "  <style>\n",
              "    .colab-df-container {\n",
              "      display:flex;\n",
              "      flex-wrap:wrap;\n",
              "      gap: 12px;\n",
              "    }\n",
              "\n",
              "    .colab-df-convert {\n",
              "      background-color: #E8F0FE;\n",
              "      border: none;\n",
              "      border-radius: 50%;\n",
              "      cursor: pointer;\n",
              "      display: none;\n",
              "      fill: #1967D2;\n",
              "      height: 32px;\n",
              "      padding: 0 0 0 0;\n",
              "      width: 32px;\n",
              "    }\n",
              "\n",
              "    .colab-df-convert:hover {\n",
              "      background-color: #E2EBFA;\n",
              "      box-shadow: 0px 1px 2px rgba(60, 64, 67, 0.3), 0px 1px 3px 1px rgba(60, 64, 67, 0.15);\n",
              "      fill: #174EA6;\n",
              "    }\n",
              "\n",
              "    [theme=dark] .colab-df-convert {\n",
              "      background-color: #3B4455;\n",
              "      fill: #D2E3FC;\n",
              "    }\n",
              "\n",
              "    [theme=dark] .colab-df-convert:hover {\n",
              "      background-color: #434B5C;\n",
              "      box-shadow: 0px 1px 3px 1px rgba(0, 0, 0, 0.15);\n",
              "      filter: drop-shadow(0px 1px 2px rgba(0, 0, 0, 0.3));\n",
              "      fill: #FFFFFF;\n",
              "    }\n",
              "  </style>\n",
              "\n",
              "      <script>\n",
              "        const buttonEl =\n",
              "          document.querySelector('#df-71d67e5c-b77c-4068-9b68-a46784ba4cc5 button.colab-df-convert');\n",
              "        buttonEl.style.display =\n",
              "          google.colab.kernel.accessAllowed ? 'block' : 'none';\n",
              "\n",
              "        async function convertToInteractive(key) {\n",
              "          const element = document.querySelector('#df-71d67e5c-b77c-4068-9b68-a46784ba4cc5');\n",
              "          const dataTable =\n",
              "            await google.colab.kernel.invokeFunction('convertToInteractive',\n",
              "                                                     [key], {});\n",
              "          if (!dataTable) return;\n",
              "\n",
              "          const docLinkHtml = 'Like what you see? Visit the ' +\n",
              "            '<a target=\"_blank\" href=https://colab.research.google.com/notebooks/data_table.ipynb>data table notebook</a>'\n",
              "            + ' to learn more about interactive tables.';\n",
              "          element.innerHTML = '';\n",
              "          dataTable['output_type'] = 'display_data';\n",
              "          await google.colab.output.renderOutput(dataTable, element);\n",
              "          const docLink = document.createElement('div');\n",
              "          docLink.innerHTML = docLinkHtml;\n",
              "          element.appendChild(docLink);\n",
              "        }\n",
              "      </script>\n",
              "    </div>\n",
              "  </div>\n",
              "  "
            ]
          },
          "metadata": {},
          "execution_count": 24
        }
      ],
      "source": [
        "df_train.describe()"
      ]
    },
    {
      "cell_type": "code",
      "execution_count": 25,
      "id": "0cec3d94",
      "metadata": {
        "colab": {
          "base_uri": "https://localhost:8080/",
          "height": 300
        },
        "id": "0cec3d94",
        "outputId": "dd41ee73-c709-4090-ebff-163cee379781"
      },
      "outputs": [
        {
          "output_type": "execute_result",
          "data": {
            "text/plain": [
              "            week_id        outlet  product_identifier    sell_price  \\\n",
              "count  15500.000000  15500.000000        15500.000000  15500.000000   \n",
              "mean     163.741935    211.200000         1509.960000      4.988229   \n",
              "std        1.294390     91.164117          809.824616      3.879690   \n",
              "min      162.000000    111.000000           74.000000      0.200000   \n",
              "25%      163.000000    113.000000          926.000000      2.640000   \n",
              "50%      164.000000    221.500000         1325.000000      3.970000   \n",
              "75%      165.000000    331.000000         1753.000000      6.680000   \n",
              "max      166.000000    333.000000         3021.000000     25.970000   \n",
              "\n",
              "       department_identifier  \n",
              "count           15500.000000  \n",
              "mean               24.460000  \n",
              "std                 6.338059  \n",
              "min                11.000000  \n",
              "25%                21.000000  \n",
              "50%                22.000000  \n",
              "75%                31.000000  \n",
              "max                33.000000  "
            ],
            "text/html": [
              "\n",
              "  <div id=\"df-74db62c0-77a5-4adc-ac7c-36c1316e35ba\">\n",
              "    <div class=\"colab-df-container\">\n",
              "      <div>\n",
              "<style scoped>\n",
              "    .dataframe tbody tr th:only-of-type {\n",
              "        vertical-align: middle;\n",
              "    }\n",
              "\n",
              "    .dataframe tbody tr th {\n",
              "        vertical-align: top;\n",
              "    }\n",
              "\n",
              "    .dataframe thead th {\n",
              "        text-align: right;\n",
              "    }\n",
              "</style>\n",
              "<table border=\"1\" class=\"dataframe\">\n",
              "  <thead>\n",
              "    <tr style=\"text-align: right;\">\n",
              "      <th></th>\n",
              "      <th>week_id</th>\n",
              "      <th>outlet</th>\n",
              "      <th>product_identifier</th>\n",
              "      <th>sell_price</th>\n",
              "      <th>department_identifier</th>\n",
              "    </tr>\n",
              "  </thead>\n",
              "  <tbody>\n",
              "    <tr>\n",
              "      <th>count</th>\n",
              "      <td>15500.000000</td>\n",
              "      <td>15500.000000</td>\n",
              "      <td>15500.000000</td>\n",
              "      <td>15500.000000</td>\n",
              "      <td>15500.000000</td>\n",
              "    </tr>\n",
              "    <tr>\n",
              "      <th>mean</th>\n",
              "      <td>163.741935</td>\n",
              "      <td>211.200000</td>\n",
              "      <td>1509.960000</td>\n",
              "      <td>4.988229</td>\n",
              "      <td>24.460000</td>\n",
              "    </tr>\n",
              "    <tr>\n",
              "      <th>std</th>\n",
              "      <td>1.294390</td>\n",
              "      <td>91.164117</td>\n",
              "      <td>809.824616</td>\n",
              "      <td>3.879690</td>\n",
              "      <td>6.338059</td>\n",
              "    </tr>\n",
              "    <tr>\n",
              "      <th>min</th>\n",
              "      <td>162.000000</td>\n",
              "      <td>111.000000</td>\n",
              "      <td>74.000000</td>\n",
              "      <td>0.200000</td>\n",
              "      <td>11.000000</td>\n",
              "    </tr>\n",
              "    <tr>\n",
              "      <th>25%</th>\n",
              "      <td>163.000000</td>\n",
              "      <td>113.000000</td>\n",
              "      <td>926.000000</td>\n",
              "      <td>2.640000</td>\n",
              "      <td>21.000000</td>\n",
              "    </tr>\n",
              "    <tr>\n",
              "      <th>50%</th>\n",
              "      <td>164.000000</td>\n",
              "      <td>221.500000</td>\n",
              "      <td>1325.000000</td>\n",
              "      <td>3.970000</td>\n",
              "      <td>22.000000</td>\n",
              "    </tr>\n",
              "    <tr>\n",
              "      <th>75%</th>\n",
              "      <td>165.000000</td>\n",
              "      <td>331.000000</td>\n",
              "      <td>1753.000000</td>\n",
              "      <td>6.680000</td>\n",
              "      <td>31.000000</td>\n",
              "    </tr>\n",
              "    <tr>\n",
              "      <th>max</th>\n",
              "      <td>166.000000</td>\n",
              "      <td>333.000000</td>\n",
              "      <td>3021.000000</td>\n",
              "      <td>25.970000</td>\n",
              "      <td>33.000000</td>\n",
              "    </tr>\n",
              "  </tbody>\n",
              "</table>\n",
              "</div>\n",
              "      <button class=\"colab-df-convert\" onclick=\"convertToInteractive('df-74db62c0-77a5-4adc-ac7c-36c1316e35ba')\"\n",
              "              title=\"Convert this dataframe to an interactive table.\"\n",
              "              style=\"display:none;\">\n",
              "        \n",
              "  <svg xmlns=\"http://www.w3.org/2000/svg\" height=\"24px\"viewBox=\"0 0 24 24\"\n",
              "       width=\"24px\">\n",
              "    <path d=\"M0 0h24v24H0V0z\" fill=\"none\"/>\n",
              "    <path d=\"M18.56 5.44l.94 2.06.94-2.06 2.06-.94-2.06-.94-.94-2.06-.94 2.06-2.06.94zm-11 1L8.5 8.5l.94-2.06 2.06-.94-2.06-.94L8.5 2.5l-.94 2.06-2.06.94zm10 10l.94 2.06.94-2.06 2.06-.94-2.06-.94-.94-2.06-.94 2.06-2.06.94z\"/><path d=\"M17.41 7.96l-1.37-1.37c-.4-.4-.92-.59-1.43-.59-.52 0-1.04.2-1.43.59L10.3 9.45l-7.72 7.72c-.78.78-.78 2.05 0 2.83L4 21.41c.39.39.9.59 1.41.59.51 0 1.02-.2 1.41-.59l7.78-7.78 2.81-2.81c.8-.78.8-2.07 0-2.86zM5.41 20L4 18.59l7.72-7.72 1.47 1.35L5.41 20z\"/>\n",
              "  </svg>\n",
              "      </button>\n",
              "      \n",
              "  <style>\n",
              "    .colab-df-container {\n",
              "      display:flex;\n",
              "      flex-wrap:wrap;\n",
              "      gap: 12px;\n",
              "    }\n",
              "\n",
              "    .colab-df-convert {\n",
              "      background-color: #E8F0FE;\n",
              "      border: none;\n",
              "      border-radius: 50%;\n",
              "      cursor: pointer;\n",
              "      display: none;\n",
              "      fill: #1967D2;\n",
              "      height: 32px;\n",
              "      padding: 0 0 0 0;\n",
              "      width: 32px;\n",
              "    }\n",
              "\n",
              "    .colab-df-convert:hover {\n",
              "      background-color: #E2EBFA;\n",
              "      box-shadow: 0px 1px 2px rgba(60, 64, 67, 0.3), 0px 1px 3px 1px rgba(60, 64, 67, 0.15);\n",
              "      fill: #174EA6;\n",
              "    }\n",
              "\n",
              "    [theme=dark] .colab-df-convert {\n",
              "      background-color: #3B4455;\n",
              "      fill: #D2E3FC;\n",
              "    }\n",
              "\n",
              "    [theme=dark] .colab-df-convert:hover {\n",
              "      background-color: #434B5C;\n",
              "      box-shadow: 0px 1px 3px 1px rgba(0, 0, 0, 0.15);\n",
              "      filter: drop-shadow(0px 1px 2px rgba(0, 0, 0, 0.3));\n",
              "      fill: #FFFFFF;\n",
              "    }\n",
              "  </style>\n",
              "\n",
              "      <script>\n",
              "        const buttonEl =\n",
              "          document.querySelector('#df-74db62c0-77a5-4adc-ac7c-36c1316e35ba button.colab-df-convert');\n",
              "        buttonEl.style.display =\n",
              "          google.colab.kernel.accessAllowed ? 'block' : 'none';\n",
              "\n",
              "        async function convertToInteractive(key) {\n",
              "          const element = document.querySelector('#df-74db62c0-77a5-4adc-ac7c-36c1316e35ba');\n",
              "          const dataTable =\n",
              "            await google.colab.kernel.invokeFunction('convertToInteractive',\n",
              "                                                     [key], {});\n",
              "          if (!dataTable) return;\n",
              "\n",
              "          const docLinkHtml = 'Like what you see? Visit the ' +\n",
              "            '<a target=\"_blank\" href=https://colab.research.google.com/notebooks/data_table.ipynb>data table notebook</a>'\n",
              "            + ' to learn more about interactive tables.';\n",
              "          element.innerHTML = '';\n",
              "          dataTable['output_type'] = 'display_data';\n",
              "          await google.colab.output.renderOutput(dataTable, element);\n",
              "          const docLink = document.createElement('div');\n",
              "          docLink.innerHTML = docLinkHtml;\n",
              "          element.appendChild(docLink);\n",
              "        }\n",
              "      </script>\n",
              "    </div>\n",
              "  </div>\n",
              "  "
            ]
          },
          "metadata": {},
          "execution_count": 25
        }
      ],
      "source": [
        "df_test.describe()"
      ]
    },
    {
      "cell_type": "code",
      "execution_count": 26,
      "id": "997926da",
      "metadata": {
        "colab": {
          "base_uri": "https://localhost:8080/",
          "height": 447
        },
        "id": "997926da",
        "outputId": "81305d24-3698-403b-8499-72f5c6859b2c"
      },
      "outputs": [
        {
          "output_type": "execute_result",
          "data": {
            "text/plain": [
              "<Axes: >"
            ]
          },
          "metadata": {},
          "execution_count": 26
        },
        {
          "output_type": "display_data",
          "data": {
            "text/plain": [
              "<Figure size 1080x504 with 1 Axes>"
            ],
            "image/png": "[encoded data removed]"
          },
          "metadata": {
            "needs_background": "light"
          }
        }
      ],
      "source": [
        "#boxplot to check the outliers\n",
        "plt.figure(figsize = (15, 7)) \n",
        "df_train.boxplot()"
      ]
    },
    {
      "cell_type": "code",
      "execution_count": 27,
      "id": "5a5301a8",
      "metadata": {
        "colab": {
          "base_uri": "https://localhost:8080/",
          "height": 447
        },
        "id": "5a5301a8",
        "outputId": "6f44dfcc-b4ba-4201-c82a-085917be0a7e"
      },
      "outputs": [
        {
          "output_type": "execute_result",
          "data": {
            "text/plain": [
              "<Axes: >"
            ]
          },
          "metadata": {},
          "execution_count": 27
        },
        {
          "output_type": "display_data",
          "data": {
            "text/plain": [
              "<Figure size 1080x504 with 1 Axes>"
            ],
            "image/png": "[encoded data removed]"
          },
          "metadata": {
            "needs_background": "light"
          }
        }
      ],
      "source": [
        "#boxplot to check the outliers\n",
        "plt.figure(figsize = (15, 7)) \n",
        "df_test.boxplot()"
      ]
    },
    {
      "cell_type": "code",
      "execution_count": 28,
      "id": "f53154ac",
      "metadata": {
        "colab": {
          "base_uri": "https://localhost:8080/",
          "height": 298
        },
        "id": "f53154ac",
        "outputId": "d106d4eb-1d81-40e9-b0cf-676f1928e161"
      },
      "outputs": [
        {
          "output_type": "execute_result",
          "data": {
            "text/plain": [
              "<Axes: xlabel='product_identifier', ylabel='Density'>"
            ]
          },
          "metadata": {},
          "execution_count": 28
        },
        {
          "output_type": "display_data",
          "data": {
            "text/plain": [
              "<Figure size 432x288 with 1 Axes>"
            ],
            "image/png": "[encoded data removed]"
          },
          "metadata": {
            "needs_background": "light"
          }
        }
      ],
      "source": [
        "#Need to handle with outliers\n",
        "sns.distplot(df_train['product_identifier'])"
      ]
    },
    {
      "cell_type": "code",
      "execution_count": 29,
      "id": "85509d6e",
      "metadata": {
        "colab": {
          "base_uri": "https://localhost:8080/",
          "height": 302
        },
        "id": "85509d6e",
        "outputId": "36c9c88b-f276-4077-9587-a7c1887242d3"
      },
      "outputs": [
        {
          "output_type": "execute_result",
          "data": {
            "text/plain": [
              "<Axes: xlabel='product_identifier', ylabel='Density'>"
            ]
          },
          "metadata": {},
          "execution_count": 29
        },
        {
          "output_type": "display_data",
          "data": {
            "text/plain": [
              "<Figure size 432x288 with 1 Axes>"
            ],
            "image/png": "[encoded data removed]"
          },
          "metadata": {
            "needs_background": "light"
          }
        }
      ],
      "source": [
        "sns.distplot(df_test['product_identifier'])"
      ]
    },
    {
      "cell_type": "code",
      "execution_count": 30,
      "id": "76722302",
      "metadata": {
        "colab": {
          "base_uri": "https://localhost:8080/"
        },
        "id": "76722302",
        "outputId": "14b0293f-eccb-4b29-cb38-9d3ea42e9583"
      },
      "outputs": [
        {
          "output_type": "execute_result",
          "data": {
            "text/plain": [
              "827.0"
            ]
          },
          "metadata": {},
          "execution_count": 30
        }
      ],
      "source": [
        "## calculating inter quantile range\n",
        "Q3 = df_train.product_identifier.quantile(0.75)\n",
        "Q1 = df_train.product_identifier.quantile(0.25)\n",
        "IQR = Q3 - Q1\n",
        "IQR"
      ]
    },
    {
      "cell_type": "code",
      "execution_count": 31,
      "id": "33b6b7b4",
      "metadata": {
        "colab": {
          "base_uri": "https://localhost:8080/"
        },
        "id": "33b6b7b4",
        "outputId": "e4c11b5f-b30b-4b8d-971d-4c6b4f7dbf5b"
      },
      "outputs": [
        {
          "output_type": "execute_result",
          "data": {
            "text/plain": [
              "827.0"
            ]
          },
          "metadata": {},
          "execution_count": 31
        }
      ],
      "source": [
        "## calculating inter quantile range\n",
        "Q3 = df_test.product_identifier.quantile(0.75)\n",
        "Q1 = df_test.product_identifier.quantile(0.25)\n",
        "IQR = Q3 - Q1\n",
        "IQR"
      ]
    },
    {
      "cell_type": "code",
      "execution_count": 32,
      "id": "8274d1cf",
      "metadata": {
        "colab": {
          "base_uri": "https://localhost:8080/"
        },
        "id": "8274d1cf",
        "outputId": "7233abac-a383-439d-8f73-e5551eb287ed"
      },
      "outputs": [
        {
          "output_type": "stream",
          "name": "stdout",
          "text": [
            "-314.5\n",
            "2993.5\n"
          ]
        }
      ],
      "source": [
        "#Outlier \n",
        "lower_bridge = df_train['product_identifier'].quantile(0.25)-(IQR*1.5)\n",
        "upper_bridge = df_train['product_identifier'].quantile(0.75)+(IQR*1.5)\n",
        "print(lower_bridge)\n",
        "print(upper_bridge)"
      ]
    },
    {
      "cell_type": "code",
      "execution_count": 33,
      "id": "a9147b3e",
      "metadata": {
        "colab": {
          "base_uri": "https://localhost:8080/"
        },
        "id": "a9147b3e",
        "outputId": "90bc7d61-1330-4d0d-8942-e271a47201a8"
      },
      "outputs": [
        {
          "output_type": "stream",
          "name": "stdout",
          "text": [
            "-314.5\n",
            "2993.5\n"
          ]
        }
      ],
      "source": [
        "#Outlier \n",
        "lower_bridge = df_test['product_identifier'].quantile(0.25)-(IQR*1.5)\n",
        "upper_bridge = df_test['product_identifier'].quantile(0.75)+(IQR*1.5)\n",
        "print(lower_bridge)\n",
        "print(upper_bridge)"
      ]
    },
    {
      "cell_type": "code",
      "execution_count": 34,
      "id": "fd77ba81",
      "metadata": {
        "id": "fd77ba81"
      },
      "outputs": [],
      "source": [
        "# filling outlier with fixed value\n",
        "df_train.loc[df_train['product_identifier']>=2993, 'product_identifier']=2993"
      ]
    },
    {
      "cell_type": "code",
      "execution_count": 35,
      "id": "ab3ae5b8",
      "metadata": {
        "id": "ab3ae5b8"
      },
      "outputs": [],
      "source": [
        "# filling outlier with fixed value\n",
        "df_test.loc[df_test['product_identifier']>=2993, 'product_identifier']=2993"
      ]
    },
    {
      "cell_type": "code",
      "execution_count": 36,
      "id": "7dc0dee8",
      "metadata": {
        "colab": {
          "base_uri": "https://localhost:8080/",
          "height": 298
        },
        "id": "7dc0dee8",
        "outputId": "57108212-f818-4e5d-f73f-a6e236977a02"
      },
      "outputs": [
        {
          "output_type": "execute_result",
          "data": {
            "text/plain": [
              "<Axes: xlabel='product_identifier', ylabel='Density'>"
            ]
          },
          "metadata": {},
          "execution_count": 36
        },
        {
          "output_type": "display_data",
          "data": {
            "text/plain": [
              "<Figure size 432x288 with 1 Axes>"
            ],
            "image/png": "[encoded data removed]"
          },
          "metadata": {
            "needs_background": "light"
          }
        }
      ],
      "source": [
        "#Need to handle with outliers\n",
        "sns.distplot(df_train['product_identifier'])"
      ]
    },
    {
      "cell_type": "code",
      "execution_count": 37,
      "id": "dfb1372b",
      "metadata": {
        "colab": {
          "base_uri": "https://localhost:8080/",
          "height": 300
        },
        "id": "dfb1372b",
        "outputId": "794885e9-cb8a-410c-cce7-b435c6fabad2"
      },
      "outputs": [
        {
          "output_type": "execute_result",
          "data": {
            "text/plain": [
              "<Axes: xlabel='product_identifier', ylabel='Density'>"
            ]
          },
          "metadata": {},
          "execution_count": 37
        },
        {
          "output_type": "display_data",
          "data": {
            "text/plain": [
              "<Figure size 432x288 with 1 Axes>"
            ],
            "image/png": "[encoded data removed]"
          },
          "metadata": {
            "needs_background": "light"
          }
        }
      ],
      "source": [
        "#Need to handle with outliers\n",
        "sns.distplot(df_test['product_identifier'])"
      ]
    },
    {
      "cell_type": "code",
      "execution_count": 38,
      "id": "41649385",
      "metadata": {
        "colab": {
          "base_uri": "https://localhost:8080/",
          "height": 298
        },
        "id": "41649385",
        "outputId": "cf691002-2ba7-49a2-a997-36f69e0e28d0"
      },
      "outputs": [
        {
          "output_type": "execute_result",
          "data": {
            "text/plain": [
              "<Axes: xlabel='sell_price', ylabel='Density'>"
            ]
          },
          "metadata": {},
          "execution_count": 38
        },
        {
          "output_type": "display_data",
          "data": {
            "text/plain": [
              "<Figure size 432x288 with 1 Axes>"
            ],
            "image/png": "[encoded data removed]"
          },
          "metadata": {
            "needs_background": "light"
          }
        }
      ],
      "source": [
        "#Need to handle with outliers\n",
        "sns.distplot(df_train['sell_price'])"
      ]
    },
    {
      "cell_type": "code",
      "execution_count": 39,
      "id": "3cddd7f4",
      "metadata": {
        "colab": {
          "base_uri": "https://localhost:8080/",
          "height": 298
        },
        "id": "3cddd7f4",
        "outputId": "3dcda8a4-10db-4285-f07e-208dd663190b"
      },
      "outputs": [
        {
          "output_type": "execute_result",
          "data": {
            "text/plain": [
              "<Axes: xlabel='sell_price', ylabel='Density'>"
            ]
          },
          "metadata": {},
          "execution_count": 39
        },
        {
          "output_type": "display_data",
          "data": {
            "text/plain": [
              "<Figure size 432x288 with 1 Axes>"
            ],
            "image/png": "[encoded data removed]"
          },
          "metadata": {
            "needs_background": "light"
          }
        }
      ],
      "source": [
        "#Need to handle with outliers\n",
        "sns.distplot(df_test['sell_price'])"
      ]
    },
    {
      "cell_type": "code",
      "execution_count": 40,
      "id": "6206e109",
      "metadata": {
        "colab": {
          "base_uri": "https://localhost:8080/"
        },
        "id": "6206e109",
        "outputId": "0f4563c0-286f-4704-f260-7f02c371a3d2"
      },
      "outputs": [
        {
          "output_type": "execute_result",
          "data": {
            "text/plain": [
              "3.8000000000000003"
            ]
          },
          "metadata": {},
          "execution_count": 40
        }
      ],
      "source": [
        "## calculating inter quantile range\n",
        "Q3 = df_train.sell_price.quantile(0.75)\n",
        "Q1 = df_train.sell_price.quantile(0.25)\n",
        "IQR = Q3 - Q1\n",
        "IQR"
      ]
    },
    {
      "cell_type": "code",
      "execution_count": 41,
      "id": "b58999df",
      "metadata": {
        "colab": {
          "base_uri": "https://localhost:8080/"
        },
        "id": "b58999df",
        "outputId": "e3f81c52-4be5-427b-f0b6-13e3531c41a4"
      },
      "outputs": [
        {
          "output_type": "execute_result",
          "data": {
            "text/plain": [
              "4.039999999999999"
            ]
          },
          "metadata": {},
          "execution_count": 41
        }
      ],
      "source": [
        "## calculating inter quantile range\n",
        "Q3 = df_test.sell_price.quantile(0.75)\n",
        "Q1 = df_test.sell_price.quantile(0.25)\n",
        "IQR = Q3 - Q1\n",
        "IQR"
      ]
    },
    {
      "cell_type": "code",
      "execution_count": 42,
      "id": "e9d65bb4",
      "metadata": {
        "colab": {
          "base_uri": "https://localhost:8080/"
        },
        "id": "e9d65bb4",
        "outputId": "6f601f28-5373-48c5-f809-9d3aa995996d"
      },
      "outputs": [
        {
          "output_type": "stream",
          "name": "stdout",
          "text": [
            "-3.3799999999999986\n",
            "12.54\n"
          ]
        }
      ],
      "source": [
        "#Outlier \n",
        "lower_bridge = df_train['sell_price'].quantile(0.25)-(IQR*1.5)\n",
        "upper_bridge = df_train['sell_price'].quantile(0.75)+(IQR*1.5)\n",
        "print(lower_bridge)\n",
        "print(upper_bridge)"
      ]
    },
    {
      "cell_type": "code",
      "execution_count": 43,
      "id": "b89db178",
      "metadata": {
        "colab": {
          "base_uri": "https://localhost:8080/"
        },
        "id": "b89db178",
        "outputId": "2635f1f1-7b1b-4462-bcb2-23b95b93f966"
      },
      "outputs": [
        {
          "output_type": "stream",
          "name": "stdout",
          "text": [
            "-3.4199999999999986\n",
            "12.739999999999998\n"
          ]
        }
      ],
      "source": [
        "#Outlier \n",
        "lower_bridge = df_test['sell_price'].quantile(0.25)-(IQR*1.5)\n",
        "upper_bridge = df_test['sell_price'].quantile(0.75)+(IQR*1.5)\n",
        "print(lower_bridge)\n",
        "print(upper_bridge)"
      ]
    },
    {
      "cell_type": "code",
      "execution_count": 44,
      "id": "a2596707",
      "metadata": {
        "id": "a2596707"
      },
      "outputs": [],
      "source": [
        "# filling outlier with fixed value\n",
        "df_train.loc[df_train['sell_price']>=12, 'sell_price']=12"
      ]
    },
    {
      "cell_type": "code",
      "execution_count": 45,
      "id": "88a0752e",
      "metadata": {
        "id": "88a0752e"
      },
      "outputs": [],
      "source": [
        "# filling outlier with fixed value\n",
        "df_test.loc[df_test['sell_price']>=12, 'sell_price']=12"
      ]
    },
    {
      "cell_type": "code",
      "execution_count": 46,
      "id": "8e8ee75b",
      "metadata": {
        "colab": {
          "base_uri": "https://localhost:8080/",
          "height": 298
        },
        "id": "8e8ee75b",
        "outputId": "637a8155-78f8-4add-b8de-c7f3fa7a364a"
      },
      "outputs": [
        {
          "output_type": "execute_result",
          "data": {
            "text/plain": [
              "<Axes: xlabel='sell_price', ylabel='Density'>"
            ]
          },
          "metadata": {},
          "execution_count": 46
        },
        {
          "output_type": "display_data",
          "data": {
            "text/plain": [
              "<Figure size 432x288 with 1 Axes>"
            ],
            "image/png": "[encoded data removed]"
          },
          "metadata": {
            "needs_background": "light"
          }
        }
      ],
      "source": [
        "#Need to handle with outliers\n",
        "sns.distplot(df_train['sell_price'])"
      ]
    },
    {
      "cell_type": "code",
      "execution_count": 47,
      "id": "65a718af",
      "metadata": {
        "colab": {
          "base_uri": "https://localhost:8080/",
          "height": 298
        },
        "id": "65a718af",
        "outputId": "5093b422-71d6-4cd2-a400-bc3bd06520ca"
      },
      "outputs": [
        {
          "output_type": "execute_result",
          "data": {
            "text/plain": [
              "<Axes: xlabel='sell_price', ylabel='Density'>"
            ]
          },
          "metadata": {},
          "execution_count": 47
        },
        {
          "output_type": "display_data",
          "data": {
            "text/plain": [
              "<Figure size 432x288 with 1 Axes>"
            ],
            "image/png": "[encoded data removed]"
          },
          "metadata": {
            "needs_background": "light"
          }
        }
      ],
      "source": [
        "#Need to handle with outliers\n",
        "sns.distplot(df_test['sell_price'])"
      ]
    },
    {
      "cell_type": "code",
      "execution_count": 48,
      "id": "c6c8a3aa",
      "metadata": {
        "colab": {
          "base_uri": "https://localhost:8080/"
        },
        "id": "c6c8a3aa",
        "outputId": "a880816b-9bf1-4dc0-9e17-15756874d6ec"
      },
      "outputs": [
        {
          "output_type": "stream",
          "name": "stdout",
          "text": [
            "<class 'pandas.core.frame.DataFrame'>\n",
            "Int64Index: 395000 entries, 0 to 394999\n",
            "Data columns (total 8 columns):\n",
            " #   Column                 Non-Null Count   Dtype  \n",
            "---  ------                 --------------   -----  \n",
            " 0   date                   395000 non-null  object \n",
            " 1   week_id                395000 non-null  int64  \n",
            " 2   outlet                 395000 non-null  int64  \n",
            " 3   product_identifier     395000 non-null  int64  \n",
            " 4   sell_price             395000 non-null  float64\n",
            " 5   department_identifier  395000 non-null  int64  \n",
            " 6   category_of_product    395000 non-null  object \n",
            " 7   state                  395000 non-null  object \n",
            "dtypes: float64(1), int64(4), object(3)\n",
            "memory usage: 27.1+ MB\n"
          ]
        }
      ],
      "source": [
        "df_train.info()"
      ]
    },
    {
      "cell_type": "code",
      "execution_count": 49,
      "id": "6b66bb7c",
      "metadata": {
        "colab": {
          "base_uri": "https://localhost:8080/"
        },
        "id": "6b66bb7c",
        "outputId": "3c4cb208-e831-4381-f3d7-1aced51d6414"
      },
      "outputs": [
        {
          "output_type": "stream",
          "name": "stdout",
          "text": [
            "<class 'pandas.core.frame.DataFrame'>\n",
            "Int64Index: 15500 entries, 0 to 15499\n",
            "Data columns (total 8 columns):\n",
            " #   Column                 Non-Null Count  Dtype  \n",
            "---  ------                 --------------  -----  \n",
            " 0   date                   15500 non-null  object \n",
            " 1   week_id                15500 non-null  int64  \n",
            " 2   outlet                 15500 non-null  int64  \n",
            " 3   product_identifier     15500 non-null  int64  \n",
            " 4   sell_price             15500 non-null  float64\n",
            " 5   department_identifier  15500 non-null  int64  \n",
            " 6   category_of_product    15500 non-null  object \n",
            " 7   state                  15500 non-null  object \n",
            "dtypes: float64(1), int64(4), object(3)\n",
            "memory usage: 1.1+ MB\n"
          ]
        }
      ],
      "source": [
        "df_test.info()"
      ]
    },
    {
      "cell_type": "code",
      "execution_count": 50,
      "id": "f2ea248e",
      "metadata": {
        "id": "f2ea248e"
      },
      "outputs": [],
      "source": [
        "# Convert the column to datetime\n",
        "#df['date'] = pd.to_datetime(df['date'])"
      ]
    },
    {
      "cell_type": "code",
      "execution_count": 51,
      "id": "4a5ad60f",
      "metadata": {
        "id": "4a5ad60f"
      },
      "outputs": [],
      "source": [
        "#df.info()"
      ]
    },
    {
      "cell_type": "code",
      "execution_count": 52,
      "id": "f40cafb0",
      "metadata": {
        "id": "f40cafb0"
      },
      "outputs": [],
      "source": [
        "#df.head()"
      ]
    },
    {
      "cell_type": "code",
      "execution_count": 53,
      "id": "90569d87",
      "metadata": {
        "id": "90569d87"
      },
      "outputs": [],
      "source": [
        "#df = df.drop(['date'],axis=1)"
      ]
    },
    {
      "cell_type": "code",
      "execution_count": 54,
      "id": "7010a40f",
      "metadata": {
        "id": "7010a40f"
      },
      "outputs": [],
      "source": [
        "# split the date column into day, month, and year columns\n",
        "df_train[['day', 'month', 'year']] = df_train['date'].str.split('-', expand=True)"
      ]
    },
    {
      "cell_type": "code",
      "execution_count": 55,
      "id": "557860d5",
      "metadata": {
        "id": "557860d5"
      },
      "outputs": [],
      "source": [
        "# split the date column into day, month, and year columns\n",
        "df_test[['day', 'month', 'year']] = df_test['date'].str.split('-', expand=True)"
      ]
    },
    {
      "cell_type": "markdown",
      "id": "6664c671",
      "metadata": {
        "id": "6664c671"
      },
      "source": [
        "## 6. Visualization"
      ]
    },
    {
      "cell_type": "code",
      "execution_count": 56,
      "id": "fd759dc1",
      "metadata": {
        "colab": {
          "base_uri": "https://localhost:8080/",
          "height": 596
        },
        "id": "fd759dc1",
        "outputId": "735f8b07-e5d5-4ee4-caab-fd4b6db49f56"
      },
      "outputs": [
        {
          "output_type": "display_data",
          "data": {
            "text/plain": [
              "<Figure size 1080x720 with 2 Axes>"
            ],
            "image/png": "[encoded data removed]"
          },
          "metadata": {
            "needs_background": "light"
          }
        }
      ],
      "source": [
        "# Let's check the correlation coefficients to see which variables are highly correlated\n",
        "\n",
        "plt.figure(figsize = (15, 10))\n",
        "sns.heatmap(df_train.corr(), annot = True, cmap=\"YlGnBu\")\n",
        "plt.show()"
      ]
    },
    {
      "cell_type": "code",
      "execution_count": 57,
      "id": "ac5e7dff",
      "metadata": {
        "colab": {
          "base_uri": "https://localhost:8080/",
          "height": 298
        },
        "id": "ac5e7dff",
        "outputId": "0924716e-6b49-4db3-c051-6ff999490153"
      },
      "outputs": [
        {
          "output_type": "execute_result",
          "data": {
            "text/plain": [
              "<Axes: xlabel='week_id', ylabel='Density'>"
            ]
          },
          "metadata": {},
          "execution_count": 57
        },
        {
          "output_type": "display_data",
          "data": {
            "text/plain": [
              "<Figure size 432x288 with 1 Axes>"
            ],
            "image/png": "[encoded data removed]"
          },
          "metadata": {
            "needs_background": "light"
          }
        }
      ],
      "source": [
        "#Need to handle with outliers\n",
        "sns.distplot(df_train['week_id'])"
      ]
    },
    {
      "cell_type": "code",
      "execution_count": 58,
      "id": "8127593c",
      "metadata": {
        "colab": {
          "base_uri": "https://localhost:8080/",
          "height": 350
        },
        "id": "8127593c",
        "outputId": "f77c165d-91de-4345-bf39-94ea44692e72"
      },
      "outputs": [
        {
          "output_type": "display_data",
          "data": {
            "text/plain": [
              "<Figure size 720x360 with 1 Axes>"
            ],
            "image/png": "[encoded data removed]"
          },
          "metadata": {
            "needs_background": "light"
          }
        }
      ],
      "source": [
        "fig, ax = plt.subplots(figsize=(10,5))\n",
        "ax.tick_params(axis='x', rotation=90)\n",
        "y_count=sns.countplot(x='product_identifier',data=df_train, ax = ax, order = df_train['product_identifier'].value_counts().iloc[:10].index)"
      ]
    },
    {
      "cell_type": "code",
      "execution_count": 59,
      "id": "4cbf7dff",
      "metadata": {
        "colab": {
          "base_uri": "https://localhost:8080/",
          "height": 339
        },
        "id": "4cbf7dff",
        "outputId": "a35aeb80-f0df-4797-daac-ce41320aabc6"
      },
      "outputs": [
        {
          "output_type": "display_data",
          "data": {
            "text/plain": [
              "<Figure size 720x360 with 1 Axes>"
            ],
            "image/png": "[encoded data removed]"
          },
          "metadata": {
            "needs_background": "light"
          }
        }
      ],
      "source": [
        "fig, ax = plt.subplots(figsize=(10,5))\n",
        "ax.tick_params(axis='x', rotation=90)\n",
        "y_count=sns.countplot(x='department_identifier',data=df_train, ax = ax, order =df_train['department_identifier'].value_counts().iloc[:20].index)"
      ]
    },
    {
      "cell_type": "code",
      "execution_count": 60,
      "id": "27d962e9",
      "metadata": {
        "colab": {
          "base_uri": "https://localhost:8080/",
          "height": 921
        },
        "id": "27d962e9",
        "outputId": "b2b56b12-f683-4320-a97d-f7e093ee1906"
      },
      "outputs": [
        {
          "output_type": "execute_result",
          "data": {
            "text/plain": [
              "<seaborn.axisgrid.PairGrid at 0x7fe7aa30cbb0>"
            ]
          },
          "metadata": {},
          "execution_count": 60
        },
        {
          "output_type": "display_data",
          "data": {
            "text/plain": [
              "<Figure size 900x900 with 30 Axes>"
            ],
            "image/png": "[encoded data removed]"
          },
          "metadata": {
            "needs_background": "light"
          }
        }
      ],
      "source": [
        "sns.pairplot(df_train)"
      ]
    },
    {
      "cell_type": "code",
      "execution_count": 61,
      "id": "f30aaec1",
      "metadata": {
        "colab": {
          "base_uri": "https://localhost:8080/",
          "height": 206
        },
        "id": "f30aaec1",
        "outputId": "088a5e1e-ddc8-4ad9-ae25-3dfbf467f572"
      },
      "outputs": [
        {
          "output_type": "execute_result",
          "data": {
            "text/plain": [
              "         date  week_id  outlet  product_identifier  sell_price  \\\n",
              "0  2012-01-01       49     111                  74        2.94   \n",
              "1  2012-01-01       49     111                 337        7.44   \n",
              "2  2012-01-01       49     111                 423        0.97   \n",
              "3  2012-01-01       49     111                 432        4.97   \n",
              "4  2012-01-01       49     111                 581        4.88   \n",
              "\n",
              "   department_identifier         category_of_product        state   day month  \\\n",
              "0                     11                      others  Maharashtra  2012    01   \n",
              "1                     11                      others  Maharashtra  2012    01   \n",
              "2                     12                      others  Maharashtra  2012    01   \n",
              "3                     12                      others  Maharashtra  2012    01   \n",
              "4                     21  fast_moving_consumer_goods  Maharashtra  2012    01   \n",
              "\n",
              "  year  \n",
              "0   01  \n",
              "1   01  \n",
              "2   01  \n",
              "3   01  \n",
              "4   01  "
            ],
            "text/html": [
              "\n",
              "  <div id=\"df-ee28de16-652c-4600-9c29-270c8d3e2c59\">\n",
              "    <div class=\"colab-df-container\">\n",
              "      <div>\n",
              "<style scoped>\n",
              "    .dataframe tbody tr th:only-of-type {\n",
              "        vertical-align: middle;\n",
              "    }\n",
              "\n",
              "    .dataframe tbody tr th {\n",
              "        vertical-align: top;\n",
              "    }\n",
              "\n",
              "    .dataframe thead th {\n",
              "        text-align: right;\n",
              "    }\n",
              "</style>\n",
              "<table border=\"1\" class=\"dataframe\">\n",
              "  <thead>\n",
              "    <tr style=\"text-align: right;\">\n",
              "      <th></th>\n",
              "      <th>date</th>\n",
              "      <th>week_id</th>\n",
              "      <th>outlet</th>\n",
              "      <th>product_identifier</th>\n",
              "      <th>sell_price</th>\n",
              "      <th>department_identifier</th>\n",
              "      <th>category_of_product</th>\n",
              "      <th>state</th>\n",
              "      <th>day</th>\n",
              "      <th>month</th>\n",
              "      <th>year</th>\n",
              "    </tr>\n",
              "  </thead>\n",
              "  <tbody>\n",
              "    <tr>\n",
              "      <th>0</th>\n",
              "      <td>2012-01-01</td>\n",
              "      <td>49</td>\n",
              "      <td>111</td>\n",
              "      <td>74</td>\n",
              "      <td>2.94</td>\n",
              "      <td>11</td>\n",
              "      <td>others</td>\n",
              "      <td>Maharashtra</td>\n",
              "      <td>2012</td>\n",
              "      <td>01</td>\n",
              "      <td>01</td>\n",
              "    </tr>\n",
              "    <tr>\n",
              "      <th>1</th>\n",
              "      <td>2012-01-01</td>\n",
              "      <td>49</td>\n",
              "      <td>111</td>\n",
              "      <td>337</td>\n",
              "      <td>7.44</td>\n",
              "      <td>11</td>\n",
              "      <td>others</td>\n",
              "      <td>Maharashtra</td>\n",
              "      <td>2012</td>\n",
              "      <td>01</td>\n",
              "      <td>01</td>\n",
              "    </tr>\n",
              "    <tr>\n",
              "      <th>2</th>\n",
              "      <td>2012-01-01</td>\n",
              "      <td>49</td>\n",
              "      <td>111</td>\n",
              "      <td>423</td>\n",
              "      <td>0.97</td>\n",
              "      <td>12</td>\n",
              "      <td>others</td>\n",
              "      <td>Maharashtra</td>\n",
              "      <td>2012</td>\n",
              "      <td>01</td>\n",
              "      <td>01</td>\n",
              "    </tr>\n",
              "    <tr>\n",
              "      <th>3</th>\n",
              "      <td>2012-01-01</td>\n",
              "      <td>49</td>\n",
              "      <td>111</td>\n",
              "      <td>432</td>\n",
              "      <td>4.97</td>\n",
              "      <td>12</td>\n",
              "      <td>others</td>\n",
              "      <td>Maharashtra</td>\n",
              "      <td>2012</td>\n",
              "      <td>01</td>\n",
              "      <td>01</td>\n",
              "    </tr>\n",
              "    <tr>\n",
              "      <th>4</th>\n",
              "      <td>2012-01-01</td>\n",
              "      <td>49</td>\n",
              "      <td>111</td>\n",
              "      <td>581</td>\n",
              "      <td>4.88</td>\n",
              "      <td>21</td>\n",
              "      <td>fast_moving_consumer_goods</td>\n",
              "      <td>Maharashtra</td>\n",
              "      <td>2012</td>\n",
              "      <td>01</td>\n",
              "      <td>01</td>\n",
              "    </tr>\n",
              "  </tbody>\n",
              "</table>\n",
              "</div>\n",
              "      <button class=\"colab-df-convert\" onclick=\"convertToInteractive('df-ee28de16-652c-4600-9c29-270c8d3e2c59')\"\n",
              "              title=\"Convert this dataframe to an interactive table.\"\n",
              "              style=\"display:none;\">\n",
              "        \n",
              "  <svg xmlns=\"http://www.w3.org/2000/svg\" height=\"24px\"viewBox=\"0 0 24 24\"\n",
              "       width=\"24px\">\n",
              "    <path d=\"M0 0h24v24H0V0z\" fill=\"none\"/>\n",
              "    <path d=\"M18.56 5.44l.94 2.06.94-2.06 2.06-.94-2.06-.94-.94-2.06-.94 2.06-2.06.94zm-11 1L8.5 8.5l.94-2.06 2.06-.94-2.06-.94L8.5 2.5l-.94 2.06-2.06.94zm10 10l.94 2.06.94-2.06 2.06-.94-2.06-.94-.94-2.06-.94 2.06-2.06.94z\"/><path d=\"M17.41 7.96l-1.37-1.37c-.4-.4-.92-.59-1.43-.59-.52 0-1.04.2-1.43.59L10.3 9.45l-7.72 7.72c-.78.78-.78 2.05 0 2.83L4 21.41c.39.39.9.59 1.41.59.51 0 1.02-.2 1.41-.59l7.78-7.78 2.81-2.81c.8-.78.8-2.07 0-2.86zM5.41 20L4 18.59l7.72-7.72 1.47 1.35L5.41 20z\"/>\n",
              "  </svg>\n",
              "      </button>\n",
              "      \n",
              "  <style>\n",
              "    .colab-df-container {\n",
              "      display:flex;\n",
              "      flex-wrap:wrap;\n",
              "      gap: 12px;\n",
              "    }\n",
              "\n",
              "    .colab-df-convert {\n",
              "      background-color: #E8F0FE;\n",
              "      border: none;\n",
              "      border-radius: 50%;\n",
              "      cursor: pointer;\n",
              "      display: none;\n",
              "      fill: #1967D2;\n",
              "      height: 32px;\n",
              "      padding: 0 0 0 0;\n",
              "      width: 32px;\n",
              "    }\n",
              "\n",
              "    .colab-df-convert:hover {\n",
              "      background-color: #E2EBFA;\n",
              "      box-shadow: 0px 1px 2px rgba(60, 64, 67, 0.3), 0px 1px 3px 1px rgba(60, 64, 67, 0.15);\n",
              "      fill: #174EA6;\n",
              "    }\n",
              "\n",
              "    [theme=dark] .colab-df-convert {\n",
              "      background-color: #3B4455;\n",
              "      fill: #D2E3FC;\n",
              "    }\n",
              "\n",
              "    [theme=dark] .colab-df-convert:hover {\n",
              "      background-color: #434B5C;\n",
              "      box-shadow: 0px 1px 3px 1px rgba(0, 0, 0, 0.15);\n",
              "      filter: drop-shadow(0px 1px 2px rgba(0, 0, 0, 0.3));\n",
              "      fill: #FFFFFF;\n",
              "    }\n",
              "  </style>\n",
              "\n",
              "      <script>\n",
              "        const buttonEl =\n",
              "          document.querySelector('#df-ee28de16-652c-4600-9c29-270c8d3e2c59 button.colab-df-convert');\n",
              "        buttonEl.style.display =\n",
              "          google.colab.kernel.accessAllowed ? 'block' : 'none';\n",
              "\n",
              "        async function convertToInteractive(key) {\n",
              "          const element = document.querySelector('#df-ee28de16-652c-4600-9c29-270c8d3e2c59');\n",
              "          const dataTable =\n",
              "            await google.colab.kernel.invokeFunction('convertToInteractive',\n",
              "                                                     [key], {});\n",
              "          if (!dataTable) return;\n",
              "\n",
              "          const docLinkHtml = 'Like what you see? Visit the ' +\n",
              "            '<a target=\"_blank\" href=https://colab.research.google.com/notebooks/data_table.ipynb>data table notebook</a>'\n",
              "            + ' to learn more about interactive tables.';\n",
              "          element.innerHTML = '';\n",
              "          dataTable['output_type'] = 'display_data';\n",
              "          await google.colab.output.renderOutput(dataTable, element);\n",
              "          const docLink = document.createElement('div');\n",
              "          docLink.innerHTML = docLinkHtml;\n",
              "          element.appendChild(docLink);\n",
              "        }\n",
              "      </script>\n",
              "    </div>\n",
              "  </div>\n",
              "  "
            ]
          },
          "metadata": {},
          "execution_count": 61
        }
      ],
      "source": [
        "df_train.head()"
      ]
    },
    {
      "cell_type": "code",
      "execution_count": 62,
      "id": "f6b0cdca",
      "metadata": {
        "id": "f6b0cdca"
      },
      "outputs": [],
      "source": [
        "#df = df.drop(['product_identifier'],axis=1)"
      ]
    },
    {
      "cell_type": "code",
      "execution_count": 63,
      "id": "4fe6d182",
      "metadata": {
        "colab": {
          "base_uri": "https://localhost:8080/",
          "height": 206
        },
        "id": "4fe6d182",
        "outputId": "3f7d6d91-f353-4111-f994-1bd77993c271"
      },
      "outputs": [
        {
          "output_type": "execute_result",
          "data": {
            "text/plain": [
              "         date  week_id  outlet  product_identifier  sell_price  \\\n",
              "0  2012-01-01       49     111                  74        2.94   \n",
              "1  2012-01-01       49     111                 337        7.44   \n",
              "2  2012-01-01       49     111                 423        0.97   \n",
              "3  2012-01-01       49     111                 432        4.97   \n",
              "4  2012-01-01       49     111                 581        4.88   \n",
              "\n",
              "   department_identifier         category_of_product        state   day month  \\\n",
              "0                     11                      others  Maharashtra  2012    01   \n",
              "1                     11                      others  Maharashtra  2012    01   \n",
              "2                     12                      others  Maharashtra  2012    01   \n",
              "3                     12                      others  Maharashtra  2012    01   \n",
              "4                     21  fast_moving_consumer_goods  Maharashtra  2012    01   \n",
              "\n",
              "  year  \n",
              "0   01  \n",
              "1   01  \n",
              "2   01  \n",
              "3   01  \n",
              "4   01  "
            ],
            "text/html": [
              "\n",
              "  <div id=\"df-2018303d-edc9-4e81-8d8b-851d142fbdf3\">\n",
              "    <div class=\"colab-df-container\">\n",
              "      <div>\n",
              "<style scoped>\n",
              "    .dataframe tbody tr th:only-of-type {\n",
              "        vertical-align: middle;\n",
              "    }\n",
              "\n",
              "    .dataframe tbody tr th {\n",
              "        vertical-align: top;\n",
              "    }\n",
              "\n",
              "    .dataframe thead th {\n",
              "        text-align: right;\n",
              "    }\n",
              "</style>\n",
              "<table border=\"1\" class=\"dataframe\">\n",
              "  <thead>\n",
              "    <tr style=\"text-align: right;\">\n",
              "      <th></th>\n",
              "      <th>date</th>\n",
              "      <th>week_id</th>\n",
              "      <th>outlet</th>\n",
              "      <th>product_identifier</th>\n",
              "      <th>sell_price</th>\n",
              "      <th>department_identifier</th>\n",
              "      <th>category_of_product</th>\n",
              "      <th>state</th>\n",
              "      <th>day</th>\n",
              "      <th>month</th>\n",
              "      <th>year</th>\n",
              "    </tr>\n",
              "  </thead>\n",
              "  <tbody>\n",
              "    <tr>\n",
              "      <th>0</th>\n",
              "      <td>2012-01-01</td>\n",
              "      <td>49</td>\n",
              "      <td>111</td>\n",
              "      <td>74</td>\n",
              "      <td>2.94</td>\n",
              "      <td>11</td>\n",
              "      <td>others</td>\n",
              "      <td>Maharashtra</td>\n",
              "      <td>2012</td>\n",
              "      <td>01</td>\n",
              "      <td>01</td>\n",
              "    </tr>\n",
              "    <tr>\n",
              "      <th>1</th>\n",
              "      <td>2012-01-01</td>\n",
              "      <td>49</td>\n",
              "      <td>111</td>\n",
              "      <td>337</td>\n",
              "      <td>7.44</td>\n",
              "      <td>11</td>\n",
              "      <td>others</td>\n",
              "      <td>Maharashtra</td>\n",
              "      <td>2012</td>\n",
              "      <td>01</td>\n",
              "      <td>01</td>\n",
              "    </tr>\n",
              "    <tr>\n",
              "      <th>2</th>\n",
              "      <td>2012-01-01</td>\n",
              "      <td>49</td>\n",
              "      <td>111</td>\n",
              "      <td>423</td>\n",
              "      <td>0.97</td>\n",
              "      <td>12</td>\n",
              "      <td>others</td>\n",
              "      <td>Maharashtra</td>\n",
              "      <td>2012</td>\n",
              "      <td>01</td>\n",
              "      <td>01</td>\n",
              "    </tr>\n",
              "    <tr>\n",
              "      <th>3</th>\n",
              "      <td>2012-01-01</td>\n",
              "      <td>49</td>\n",
              "      <td>111</td>\n",
              "      <td>432</td>\n",
              "      <td>4.97</td>\n",
              "      <td>12</td>\n",
              "      <td>others</td>\n",
              "      <td>Maharashtra</td>\n",
              "      <td>2012</td>\n",
              "      <td>01</td>\n",
              "      <td>01</td>\n",
              "    </tr>\n",
              "    <tr>\n",
              "      <th>4</th>\n",
              "      <td>2012-01-01</td>\n",
              "      <td>49</td>\n",
              "      <td>111</td>\n",
              "      <td>581</td>\n",
              "      <td>4.88</td>\n",
              "      <td>21</td>\n",
              "      <td>fast_moving_consumer_goods</td>\n",
              "      <td>Maharashtra</td>\n",
              "      <td>2012</td>\n",
              "      <td>01</td>\n",
              "      <td>01</td>\n",
              "    </tr>\n",
              "  </tbody>\n",
              "</table>\n",
              "</div>\n",
              "      <button class=\"colab-df-convert\" onclick=\"convertToInteractive('df-2018303d-edc9-4e81-8d8b-851d142fbdf3')\"\n",
              "              title=\"Convert this dataframe to an interactive table.\"\n",
              "              style=\"display:none;\">\n",
              "        \n",
              "  <svg xmlns=\"http://www.w3.org/2000/svg\" height=\"24px\"viewBox=\"0 0 24 24\"\n",
              "       width=\"24px\">\n",
              "    <path d=\"M0 0h24v24H0V0z\" fill=\"none\"/>\n",
              "    <path d=\"M18.56 5.44l.94 2.06.94-2.06 2.06-.94-2.06-.94-.94-2.06-.94 2.06-2.06.94zm-11 1L8.5 8.5l.94-2.06 2.06-.94-2.06-.94L8.5 2.5l-.94 2.06-2.06.94zm10 10l.94 2.06.94-2.06 2.06-.94-2.06-.94-.94-2.06-.94 2.06-2.06.94z\"/><path d=\"M17.41 7.96l-1.37-1.37c-.4-.4-.92-.59-1.43-.59-.52 0-1.04.2-1.43.59L10.3 9.45l-7.72 7.72c-.78.78-.78 2.05 0 2.83L4 21.41c.39.39.9.59 1.41.59.51 0 1.02-.2 1.41-.59l7.78-7.78 2.81-2.81c.8-.78.8-2.07 0-2.86zM5.41 20L4 18.59l7.72-7.72 1.47 1.35L5.41 20z\"/>\n",
              "  </svg>\n",
              "      </button>\n",
              "      \n",
              "  <style>\n",
              "    .colab-df-container {\n",
              "      display:flex;\n",
              "      flex-wrap:wrap;\n",
              "      gap: 12px;\n",
              "    }\n",
              "\n",
              "    .colab-df-convert {\n",
              "      background-color: #E8F0FE;\n",
              "      border: none;\n",
              "      border-radius: 50%;\n",
              "      cursor: pointer;\n",
              "      display: none;\n",
              "      fill: #1967D2;\n",
              "      height: 32px;\n",
              "      padding: 0 0 0 0;\n",
              "      width: 32px;\n",
              "    }\n",
              "\n",
              "    .colab-df-convert:hover {\n",
              "      background-color: #E2EBFA;\n",
              "      box-shadow: 0px 1px 2px rgba(60, 64, 67, 0.3), 0px 1px 3px 1px rgba(60, 64, 67, 0.15);\n",
              "      fill: #174EA6;\n",
              "    }\n",
              "\n",
              "    [theme=dark] .colab-df-convert {\n",
              "      background-color: #3B4455;\n",
              "      fill: #D2E3FC;\n",
              "    }\n",
              "\n",
              "    [theme=dark] .colab-df-convert:hover {\n",
              "      background-color: #434B5C;\n",
              "      box-shadow: 0px 1px 3px 1px rgba(0, 0, 0, 0.15);\n",
              "      filter: drop-shadow(0px 1px 2px rgba(0, 0, 0, 0.3));\n",
              "      fill: #FFFFFF;\n",
              "    }\n",
              "  </style>\n",
              "\n",
              "      <script>\n",
              "        const buttonEl =\n",
              "          document.querySelector('#df-2018303d-edc9-4e81-8d8b-851d142fbdf3 button.colab-df-convert');\n",
              "        buttonEl.style.display =\n",
              "          google.colab.kernel.accessAllowed ? 'block' : 'none';\n",
              "\n",
              "        async function convertToInteractive(key) {\n",
              "          const element = document.querySelector('#df-2018303d-edc9-4e81-8d8b-851d142fbdf3');\n",
              "          const dataTable =\n",
              "            await google.colab.kernel.invokeFunction('convertToInteractive',\n",
              "                                                     [key], {});\n",
              "          if (!dataTable) return;\n",
              "\n",
              "          const docLinkHtml = 'Like what you see? Visit the ' +\n",
              "            '<a target=\"_blank\" href=https://colab.research.google.com/notebooks/data_table.ipynb>data table notebook</a>'\n",
              "            + ' to learn more about interactive tables.';\n",
              "          element.innerHTML = '';\n",
              "          dataTable['output_type'] = 'display_data';\n",
              "          await google.colab.output.renderOutput(dataTable, element);\n",
              "          const docLink = document.createElement('div');\n",
              "          docLink.innerHTML = docLinkHtml;\n",
              "          element.appendChild(docLink);\n",
              "        }\n",
              "      </script>\n",
              "    </div>\n",
              "  </div>\n",
              "  "
            ]
          },
          "metadata": {},
          "execution_count": 63
        }
      ],
      "source": [
        "df_train.head()"
      ]
    },
    {
      "cell_type": "code",
      "execution_count": 64,
      "id": "9e898fec",
      "metadata": {
        "colab": {
          "base_uri": "https://localhost:8080/"
        },
        "id": "9e898fec",
        "outputId": "02dfc2df-30dc-4a25-8d8e-95dd832f259a"
      },
      "outputs": [
        {
          "output_type": "execute_result",
          "data": {
            "text/plain": [
              "3"
            ]
          },
          "metadata": {},
          "execution_count": 64
        }
      ],
      "source": [
        "df_train['state'].nunique()"
      ]
    },
    {
      "cell_type": "code",
      "execution_count": 65,
      "id": "5bfe4968",
      "metadata": {
        "colab": {
          "base_uri": "https://localhost:8080/"
        },
        "id": "5bfe4968",
        "outputId": "a9ceaa6c-6b6b-4cc5-db5f-05d055b60d23"
      },
      "outputs": [
        {
          "output_type": "execute_result",
          "data": {
            "text/plain": [
              "3"
            ]
          },
          "metadata": {},
          "execution_count": 65
        }
      ],
      "source": [
        "df_train['category_of_product'].nunique()"
      ]
    },
    {
      "cell_type": "markdown",
      "id": "703cfd9a",
      "metadata": {
        "id": "703cfd9a"
      },
      "source": [
        "## 7. Encoding from categorical features to numerical"
      ]
    },
    {
      "cell_type": "code",
      "execution_count": 66,
      "id": "e5a846dd",
      "metadata": {
        "id": "e5a846dd"
      },
      "outputs": [],
      "source": [
        "from sklearn.preprocessing import LabelEncoder\n",
        "le = LabelEncoder()"
      ]
    },
    {
      "cell_type": "code",
      "execution_count": 67,
      "id": "9d67a9fb",
      "metadata": {
        "id": "9d67a9fb"
      },
      "outputs": [],
      "source": [
        "df_train['category_of_product'] = le.fit_transform(df_train['category_of_product'])\n",
        "df_train['state'] = le.fit_transform(df_train['state'])"
      ]
    },
    {
      "cell_type": "code",
      "execution_count": 68,
      "id": "c6ce9247",
      "metadata": {
        "id": "c6ce9247"
      },
      "outputs": [],
      "source": [
        "df_test['category_of_product'] = le.fit_transform(df_test['category_of_product'])\n",
        "df_test['state'] = le.fit_transform(df_test['state'])"
      ]
    },
    {
      "cell_type": "code",
      "execution_count": 69,
      "id": "94a68069",
      "metadata": {
        "colab": {
          "base_uri": "https://localhost:8080/",
          "height": 206
        },
        "id": "94a68069",
        "outputId": "53d3596b-9ead-44e8-d469-02b5a7ce3531"
      },
      "outputs": [
        {
          "output_type": "execute_result",
          "data": {
            "text/plain": [
              "         date  week_id  outlet  product_identifier  sell_price  \\\n",
              "0  2012-01-01       49     111                  74        2.94   \n",
              "1  2012-01-01       49     111                 337        7.44   \n",
              "2  2012-01-01       49     111                 423        0.97   \n",
              "3  2012-01-01       49     111                 432        4.97   \n",
              "4  2012-01-01       49     111                 581        4.88   \n",
              "\n",
              "   department_identifier  category_of_product  state   day month year  \n",
              "0                     11                    2      1  2012    01   01  \n",
              "1                     11                    2      1  2012    01   01  \n",
              "2                     12                    2      1  2012    01   01  \n",
              "3                     12                    2      1  2012    01   01  \n",
              "4                     21                    1      1  2012    01   01  "
            ],
            "text/html": [
              "\n",
              "  <div id=\"df-c09ff134-9dff-4016-972c-79779d56c164\">\n",
              "    <div class=\"colab-df-container\">\n",
              "      <div>\n",
              "<style scoped>\n",
              "    .dataframe tbody tr th:only-of-type {\n",
              "        vertical-align: middle;\n",
              "    }\n",
              "\n",
              "    .dataframe tbody tr th {\n",
              "        vertical-align: top;\n",
              "    }\n",
              "\n",
              "    .dataframe thead th {\n",
              "        text-align: right;\n",
              "    }\n",
              "</style>\n",
              "<table border=\"1\" class=\"dataframe\">\n",
              "  <thead>\n",
              "    <tr style=\"text-align: right;\">\n",
              "      <th></th>\n",
              "      <th>date</th>\n",
              "      <th>week_id</th>\n",
              "      <th>outlet</th>\n",
              "      <th>product_identifier</th>\n",
              "      <th>sell_price</th>\n",
              "      <th>department_identifier</th>\n",
              "      <th>category_of_product</th>\n",
              "      <th>state</th>\n",
              "      <th>day</th>\n",
              "      <th>month</th>\n",
              "      <th>year</th>\n",
              "    </tr>\n",
              "  </thead>\n",
              "  <tbody>\n",
              "    <tr>\n",
              "      <th>0</th>\n",
              "      <td>2012-01-01</td>\n",
              "      <td>49</td>\n",
              "      <td>111</td>\n",
              "      <td>74</td>\n",
              "      <td>2.94</td>\n",
              "      <td>11</td>\n",
              "      <td>2</td>\n",
              "      <td>1</td>\n",
              "      <td>2012</td>\n",
              "      <td>01</td>\n",
              "      <td>01</td>\n",
              "    </tr>\n",
              "    <tr>\n",
              "      <th>1</th>\n",
              "      <td>2012-01-01</td>\n",
              "      <td>49</td>\n",
              "      <td>111</td>\n",
              "      <td>337</td>\n",
              "      <td>7.44</td>\n",
              "      <td>11</td>\n",
              "      <td>2</td>\n",
              "      <td>1</td>\n",
              "      <td>2012</td>\n",
              "      <td>01</td>\n",
              "      <td>01</td>\n",
              "    </tr>\n",
              "    <tr>\n",
              "      <th>2</th>\n",
              "      <td>2012-01-01</td>\n",
              "      <td>49</td>\n",
              "      <td>111</td>\n",
              "      <td>423</td>\n",
              "      <td>0.97</td>\n",
              "      <td>12</td>\n",
              "      <td>2</td>\n",
              "      <td>1</td>\n",
              "      <td>2012</td>\n",
              "      <td>01</td>\n",
              "      <td>01</td>\n",
              "    </tr>\n",
              "    <tr>\n",
              "      <th>3</th>\n",
              "      <td>2012-01-01</td>\n",
              "      <td>49</td>\n",
              "      <td>111</td>\n",
              "      <td>432</td>\n",
              "      <td>4.97</td>\n",
              "      <td>12</td>\n",
              "      <td>2</td>\n",
              "      <td>1</td>\n",
              "      <td>2012</td>\n",
              "      <td>01</td>\n",
              "      <td>01</td>\n",
              "    </tr>\n",
              "    <tr>\n",
              "      <th>4</th>\n",
              "      <td>2012-01-01</td>\n",
              "      <td>49</td>\n",
              "      <td>111</td>\n",
              "      <td>581</td>\n",
              "      <td>4.88</td>\n",
              "      <td>21</td>\n",
              "      <td>1</td>\n",
              "      <td>1</td>\n",
              "      <td>2012</td>\n",
              "      <td>01</td>\n",
              "      <td>01</td>\n",
              "    </tr>\n",
              "  </tbody>\n",
              "</table>\n",
              "</div>\n",
              "      <button class=\"colab-df-convert\" onclick=\"convertToInteractive('df-c09ff134-9dff-4016-972c-79779d56c164')\"\n",
              "              title=\"Convert this dataframe to an interactive table.\"\n",
              "              style=\"display:none;\">\n",
              "        \n",
              "  <svg xmlns=\"http://www.w3.org/2000/svg\" height=\"24px\"viewBox=\"0 0 24 24\"\n",
              "       width=\"24px\">\n",
              "    <path d=\"M0 0h24v24H0V0z\" fill=\"none\"/>\n",
              "    <path d=\"M18.56 5.44l.94 2.06.94-2.06 2.06-.94-2.06-.94-.94-2.06-.94 2.06-2.06.94zm-11 1L8.5 8.5l.94-2.06 2.06-.94-2.06-.94L8.5 2.5l-.94 2.06-2.06.94zm10 10l.94 2.06.94-2.06 2.06-.94-2.06-.94-.94-2.06-.94 2.06-2.06.94z\"/><path d=\"M17.41 7.96l-1.37-1.37c-.4-.4-.92-.59-1.43-.59-.52 0-1.04.2-1.43.59L10.3 9.45l-7.72 7.72c-.78.78-.78 2.05 0 2.83L4 21.41c.39.39.9.59 1.41.59.51 0 1.02-.2 1.41-.59l7.78-7.78 2.81-2.81c.8-.78.8-2.07 0-2.86zM5.41 20L4 18.59l7.72-7.72 1.47 1.35L5.41 20z\"/>\n",
              "  </svg>\n",
              "      </button>\n",
              "      \n",
              "  <style>\n",
              "    .colab-df-container {\n",
              "      display:flex;\n",
              "      flex-wrap:wrap;\n",
              "      gap: 12px;\n",
              "    }\n",
              "\n",
              "    .colab-df-convert {\n",
              "      background-color: #E8F0FE;\n",
              "      border: none;\n",
              "      border-radius: 50%;\n",
              "      cursor: pointer;\n",
              "      display: none;\n",
              "      fill: #1967D2;\n",
              "      height: 32px;\n",
              "      padding: 0 0 0 0;\n",
              "      width: 32px;\n",
              "    }\n",
              "\n",
              "    .colab-df-convert:hover {\n",
              "      background-color: #E2EBFA;\n",
              "      box-shadow: 0px 1px 2px rgba(60, 64, 67, 0.3), 0px 1px 3px 1px rgba(60, 64, 67, 0.15);\n",
              "      fill: #174EA6;\n",
              "    }\n",
              "\n",
              "    [theme=dark] .colab-df-convert {\n",
              "      background-color: #3B4455;\n",
              "      fill: #D2E3FC;\n",
              "    }\n",
              "\n",
              "    [theme=dark] .colab-df-convert:hover {\n",
              "      background-color: #434B5C;\n",
              "      box-shadow: 0px 1px 3px 1px rgba(0, 0, 0, 0.15);\n",
              "      filter: drop-shadow(0px 1px 2px rgba(0, 0, 0, 0.3));\n",
              "      fill: #FFFFFF;\n",
              "    }\n",
              "  </style>\n",
              "\n",
              "      <script>\n",
              "        const buttonEl =\n",
              "          document.querySelector('#df-c09ff134-9dff-4016-972c-79779d56c164 button.colab-df-convert');\n",
              "        buttonEl.style.display =\n",
              "          google.colab.kernel.accessAllowed ? 'block' : 'none';\n",
              "\n",
              "        async function convertToInteractive(key) {\n",
              "          const element = document.querySelector('#df-c09ff134-9dff-4016-972c-79779d56c164');\n",
              "          const dataTable =\n",
              "            await google.colab.kernel.invokeFunction('convertToInteractive',\n",
              "                                                     [key], {});\n",
              "          if (!dataTable) return;\n",
              "\n",
              "          const docLinkHtml = 'Like what you see? Visit the ' +\n",
              "            '<a target=\"_blank\" href=https://colab.research.google.com/notebooks/data_table.ipynb>data table notebook</a>'\n",
              "            + ' to learn more about interactive tables.';\n",
              "          element.innerHTML = '';\n",
              "          dataTable['output_type'] = 'display_data';\n",
              "          await google.colab.output.renderOutput(dataTable, element);\n",
              "          const docLink = document.createElement('div');\n",
              "          docLink.innerHTML = docLinkHtml;\n",
              "          element.appendChild(docLink);\n",
              "        }\n",
              "      </script>\n",
              "    </div>\n",
              "  </div>\n",
              "  "
            ]
          },
          "metadata": {},
          "execution_count": 69
        }
      ],
      "source": [
        "df_train.head()"
      ]
    },
    {
      "cell_type": "code",
      "execution_count": 70,
      "id": "ded5e122",
      "metadata": {
        "colab": {
          "base_uri": "https://localhost:8080/",
          "height": 206
        },
        "id": "ded5e122",
        "outputId": "077cf097-9ab4-4ab6-ffbb-89da4804a7da"
      },
      "outputs": [
        {
          "output_type": "execute_result",
          "data": {
            "text/plain": [
              "              date  week_id  outlet  product_identifier  sell_price  \\\n",
              "394995  2014-02-28      161     333                2932        2.78   \n",
              "394996  2014-02-28      161     333                2935        0.20   \n",
              "394997  2014-02-28      161     333                2993        2.50   \n",
              "394998  2014-02-28      161     333                2993        1.98   \n",
              "394999  2014-02-28      161     333                2993        2.08   \n",
              "\n",
              "        department_identifier  category_of_product  state   day month year  \n",
              "394995                     33                    0      0  2014    02   28  \n",
              "394996                     33                    0      0  2014    02   28  \n",
              "394997                     33                    0      0  2014    02   28  \n",
              "394998                     33                    0      0  2014    02   28  \n",
              "394999                     33                    0      0  2014    02   28  "
            ],
            "text/html": [
              "\n",
              "  <div id=\"df-e779958e-9d9a-47d5-910a-7d43c1c481c5\">\n",
              "    <div class=\"colab-df-container\">\n",
              "      <div>\n",
              "<style scoped>\n",
              "    .dataframe tbody tr th:only-of-type {\n",
              "        vertical-align: middle;\n",
              "    }\n",
              "\n",
              "    .dataframe tbody tr th {\n",
              "        vertical-align: top;\n",
              "    }\n",
              "\n",
              "    .dataframe thead th {\n",
              "        text-align: right;\n",
              "    }\n",
              "</style>\n",
              "<table border=\"1\" class=\"dataframe\">\n",
              "  <thead>\n",
              "    <tr style=\"text-align: right;\">\n",
              "      <th></th>\n",
              "      <th>date</th>\n",
              "      <th>week_id</th>\n",
              "      <th>outlet</th>\n",
              "      <th>product_identifier</th>\n",
              "      <th>sell_price</th>\n",
              "      <th>department_identifier</th>\n",
              "      <th>category_of_product</th>\n",
              "      <th>state</th>\n",
              "      <th>day</th>\n",
              "      <th>month</th>\n",
              "      <th>year</th>\n",
              "    </tr>\n",
              "  </thead>\n",
              "  <tbody>\n",
              "    <tr>\n",
              "      <th>394995</th>\n",
              "      <td>2014-02-28</td>\n",
              "      <td>161</td>\n",
              "      <td>333</td>\n",
              "      <td>2932</td>\n",
              "      <td>2.78</td>\n",
              "      <td>33</td>\n",
              "      <td>0</td>\n",
              "      <td>0</td>\n",
              "      <td>2014</td>\n",
              "      <td>02</td>\n",
              "      <td>28</td>\n",
              "    </tr>\n",
              "    <tr>\n",
              "      <th>394996</th>\n",
              "      <td>2014-02-28</td>\n",
              "      <td>161</td>\n",
              "      <td>333</td>\n",
              "      <td>2935</td>\n",
              "      <td>0.20</td>\n",
              "      <td>33</td>\n",
              "      <td>0</td>\n",
              "      <td>0</td>\n",
              "      <td>2014</td>\n",
              "      <td>02</td>\n",
              "      <td>28</td>\n",
              "    </tr>\n",
              "    <tr>\n",
              "      <th>394997</th>\n",
              "      <td>2014-02-28</td>\n",
              "      <td>161</td>\n",
              "      <td>333</td>\n",
              "      <td>2993</td>\n",
              "      <td>2.50</td>\n",
              "      <td>33</td>\n",
              "      <td>0</td>\n",
              "      <td>0</td>\n",
              "      <td>2014</td>\n",
              "      <td>02</td>\n",
              "      <td>28</td>\n",
              "    </tr>\n",
              "    <tr>\n",
              "      <th>394998</th>\n",
              "      <td>2014-02-28</td>\n",
              "      <td>161</td>\n",
              "      <td>333</td>\n",
              "      <td>2993</td>\n",
              "      <td>1.98</td>\n",
              "      <td>33</td>\n",
              "      <td>0</td>\n",
              "      <td>0</td>\n",
              "      <td>2014</td>\n",
              "      <td>02</td>\n",
              "      <td>28</td>\n",
              "    </tr>\n",
              "    <tr>\n",
              "      <th>394999</th>\n",
              "      <td>2014-02-28</td>\n",
              "      <td>161</td>\n",
              "      <td>333</td>\n",
              "      <td>2993</td>\n",
              "      <td>2.08</td>\n",
              "      <td>33</td>\n",
              "      <td>0</td>\n",
              "      <td>0</td>\n",
              "      <td>2014</td>\n",
              "      <td>02</td>\n",
              "      <td>28</td>\n",
              "    </tr>\n",
              "  </tbody>\n",
              "</table>\n",
              "</div>\n",
              "      <button class=\"colab-df-convert\" onclick=\"convertToInteractive('df-e779958e-9d9a-47d5-910a-7d43c1c481c5')\"\n",
              "              title=\"Convert this dataframe to an interactive table.\"\n",
              "              style=\"display:none;\">\n",
              "        \n",
              "  <svg xmlns=\"http://www.w3.org/2000/svg\" height=\"24px\"viewBox=\"0 0 24 24\"\n",
              "       width=\"24px\">\n",
              "    <path d=\"M0 0h24v24H0V0z\" fill=\"none\"/>\n",
              "    <path d=\"M18.56 5.44l.94 2.06.94-2.06 2.06-.94-2.06-.94-.94-2.06-.94 2.06-2.06.94zm-11 1L8.5 8.5l.94-2.06 2.06-.94-2.06-.94L8.5 2.5l-.94 2.06-2.06.94zm10 10l.94 2.06.94-2.06 2.06-.94-2.06-.94-.94-2.06-.94 2.06-2.06.94z\"/><path d=\"M17.41 7.96l-1.37-1.37c-.4-.4-.92-.59-1.43-.59-.52 0-1.04.2-1.43.59L10.3 9.45l-7.72 7.72c-.78.78-.78 2.05 0 2.83L4 21.41c.39.39.9.59 1.41.59.51 0 1.02-.2 1.41-.59l7.78-7.78 2.81-2.81c.8-.78.8-2.07 0-2.86zM5.41 20L4 18.59l7.72-7.72 1.47 1.35L5.41 20z\"/>\n",
              "  </svg>\n",
              "      </button>\n",
              "      \n",
              "  <style>\n",
              "    .colab-df-container {\n",
              "      display:flex;\n",
              "      flex-wrap:wrap;\n",
              "      gap: 12px;\n",
              "    }\n",
              "\n",
              "    .colab-df-convert {\n",
              "      background-color: #E8F0FE;\n",
              "      border: none;\n",
              "      border-radius: 50%;\n",
              "      cursor: pointer;\n",
              "      display: none;\n",
              "      fill: #1967D2;\n",
              "      height: 32px;\n",
              "      padding: 0 0 0 0;\n",
              "      width: 32px;\n",
              "    }\n",
              "\n",
              "    .colab-df-convert:hover {\n",
              "      background-color: #E2EBFA;\n",
              "      box-shadow: 0px 1px 2px rgba(60, 64, 67, 0.3), 0px 1px 3px 1px rgba(60, 64, 67, 0.15);\n",
              "      fill: #174EA6;\n",
              "    }\n",
              "\n",
              "    [theme=dark] .colab-df-convert {\n",
              "      background-color: #3B4455;\n",
              "      fill: #D2E3FC;\n",
              "    }\n",
              "\n",
              "    [theme=dark] .colab-df-convert:hover {\n",
              "      background-color: #434B5C;\n",
              "      box-shadow: 0px 1px 3px 1px rgba(0, 0, 0, 0.15);\n",
              "      filter: drop-shadow(0px 1px 2px rgba(0, 0, 0, 0.3));\n",
              "      fill: #FFFFFF;\n",
              "    }\n",
              "  </style>\n",
              "\n",
              "      <script>\n",
              "        const buttonEl =\n",
              "          document.querySelector('#df-e779958e-9d9a-47d5-910a-7d43c1c481c5 button.colab-df-convert');\n",
              "        buttonEl.style.display =\n",
              "          google.colab.kernel.accessAllowed ? 'block' : 'none';\n",
              "\n",
              "        async function convertToInteractive(key) {\n",
              "          const element = document.querySelector('#df-e779958e-9d9a-47d5-910a-7d43c1c481c5');\n",
              "          const dataTable =\n",
              "            await google.colab.kernel.invokeFunction('convertToInteractive',\n",
              "                                                     [key], {});\n",
              "          if (!dataTable) return;\n",
              "\n",
              "          const docLinkHtml = 'Like what you see? Visit the ' +\n",
              "            '<a target=\"_blank\" href=https://colab.research.google.com/notebooks/data_table.ipynb>data table notebook</a>'\n",
              "            + ' to learn more about interactive tables.';\n",
              "          element.innerHTML = '';\n",
              "          dataTable['output_type'] = 'display_data';\n",
              "          await google.colab.output.renderOutput(dataTable, element);\n",
              "          const docLink = document.createElement('div');\n",
              "          docLink.innerHTML = docLinkHtml;\n",
              "          element.appendChild(docLink);\n",
              "        }\n",
              "      </script>\n",
              "    </div>\n",
              "  </div>\n",
              "  "
            ]
          },
          "metadata": {},
          "execution_count": 70
        }
      ],
      "source": [
        "df_train.tail()"
      ]
    },
    {
      "cell_type": "code",
      "execution_count": 71,
      "id": "7ee6f7ac",
      "metadata": {
        "id": "7ee6f7ac"
      },
      "outputs": [],
      "source": [
        "#df = pd.get_dummies(df)"
      ]
    },
    {
      "cell_type": "code",
      "execution_count": 72,
      "id": "d4ccd0ec",
      "metadata": {
        "id": "d4ccd0ec"
      },
      "outputs": [],
      "source": [
        "df_train = df_train.drop(['date'],axis=1)\n",
        "df_test = df_test.drop(['date'],axis=1)"
      ]
    },
    {
      "cell_type": "code",
      "execution_count": 73,
      "id": "62e7bdbf",
      "metadata": {
        "id": "62e7bdbf"
      },
      "outputs": [],
      "source": [
        "# seperating the dependent and independent variables\n",
        "X_train = df_train.drop(\"sell_price\", axis = 1)\n",
        "y_train = df_train[\"sell_price\"]"
      ]
    },
    {
      "cell_type": "code",
      "execution_count": 74,
      "id": "95424dd0",
      "metadata": {
        "id": "95424dd0"
      },
      "outputs": [],
      "source": [
        "# seperating the dependent and independent variables\n",
        "X_test = df_test.drop(\"sell_price\", axis = 1)\n",
        "y_test = df_test[\"sell_price\"]"
      ]
    },
    {
      "cell_type": "code",
      "execution_count": 75,
      "id": "3708f886",
      "metadata": {
        "colab": {
          "base_uri": "https://localhost:8080/",
          "height": 206
        },
        "id": "3708f886",
        "outputId": "0a069b52-3cfb-43ef-b564-7d57f771e1eb"
      },
      "outputs": [
        {
          "output_type": "execute_result",
          "data": {
            "text/plain": [
              "   week_id  outlet  product_identifier  department_identifier  \\\n",
              "0       49     111                  74                     11   \n",
              "1       49     111                 337                     11   \n",
              "2       49     111                 423                     12   \n",
              "3       49     111                 432                     12   \n",
              "4       49     111                 581                     21   \n",
              "\n",
              "   category_of_product  state   day month year  \n",
              "0                    2      1  2012    01   01  \n",
              "1                    2      1  2012    01   01  \n",
              "2                    2      1  2012    01   01  \n",
              "3                    2      1  2012    01   01  \n",
              "4                    1      1  2012    01   01  "
            ],
            "text/html": [
              "\n",
              "  <div id=\"df-700083ec-0767-4290-bab1-72c7dc1c8c2e\">\n",
              "    <div class=\"colab-df-container\">\n",
              "      <div>\n",
              "<style scoped>\n",
              "    .dataframe tbody tr th:only-of-type {\n",
              "        vertical-align: middle;\n",
              "    }\n",
              "\n",
              "    .dataframe tbody tr th {\n",
              "        vertical-align: top;\n",
              "    }\n",
              "\n",
              "    .dataframe thead th {\n",
              "        text-align: right;\n",
              "    }\n",
              "</style>\n",
              "<table border=\"1\" class=\"dataframe\">\n",
              "  <thead>\n",
              "    <tr style=\"text-align: right;\">\n",
              "      <th></th>\n",
              "      <th>week_id</th>\n",
              "      <th>outlet</th>\n",
              "      <th>product_identifier</th>\n",
              "      <th>department_identifier</th>\n",
              "      <th>category_of_product</th>\n",
              "      <th>state</th>\n",
              "      <th>day</th>\n",
              "      <th>month</th>\n",
              "      <th>year</th>\n",
              "    </tr>\n",
              "  </thead>\n",
              "  <tbody>\n",
              "    <tr>\n",
              "      <th>0</th>\n",
              "      <td>49</td>\n",
              "      <td>111</td>\n",
              "      <td>74</td>\n",
              "      <td>11</td>\n",
              "      <td>2</td>\n",
              "      <td>1</td>\n",
              "      <td>2012</td>\n",
              "      <td>01</td>\n",
              "      <td>01</td>\n",
              "    </tr>\n",
              "    <tr>\n",
              "      <th>1</th>\n",
              "      <td>49</td>\n",
              "      <td>111</td>\n",
              "      <td>337</td>\n",
              "      <td>11</td>\n",
              "      <td>2</td>\n",
              "      <td>1</td>\n",
              "      <td>2012</td>\n",
              "      <td>01</td>\n",
              "      <td>01</td>\n",
              "    </tr>\n",
              "    <tr>\n",
              "      <th>2</th>\n",
              "      <td>49</td>\n",
              "      <td>111</td>\n",
              "      <td>423</td>\n",
              "      <td>12</td>\n",
              "      <td>2</td>\n",
              "      <td>1</td>\n",
              "      <td>2012</td>\n",
              "      <td>01</td>\n",
              "      <td>01</td>\n",
              "    </tr>\n",
              "    <tr>\n",
              "      <th>3</th>\n",
              "      <td>49</td>\n",
              "      <td>111</td>\n",
              "      <td>432</td>\n",
              "      <td>12</td>\n",
              "      <td>2</td>\n",
              "      <td>1</td>\n",
              "      <td>2012</td>\n",
              "      <td>01</td>\n",
              "      <td>01</td>\n",
              "    </tr>\n",
              "    <tr>\n",
              "      <th>4</th>\n",
              "      <td>49</td>\n",
              "      <td>111</td>\n",
              "      <td>581</td>\n",
              "      <td>21</td>\n",
              "      <td>1</td>\n",
              "      <td>1</td>\n",
              "      <td>2012</td>\n",
              "      <td>01</td>\n",
              "      <td>01</td>\n",
              "    </tr>\n",
              "  </tbody>\n",
              "</table>\n",
              "</div>\n",
              "      <button class=\"colab-df-convert\" onclick=\"convertToInteractive('df-700083ec-0767-4290-bab1-72c7dc1c8c2e')\"\n",
              "              title=\"Convert this dataframe to an interactive table.\"\n",
              "              style=\"display:none;\">\n",
              "        \n",
              "  <svg xmlns=\"http://www.w3.org/2000/svg\" height=\"24px\"viewBox=\"0 0 24 24\"\n",
              "       width=\"24px\">\n",
              "    <path d=\"M0 0h24v24H0V0z\" fill=\"none\"/>\n",
              "    <path d=\"M18.56 5.44l.94 2.06.94-2.06 2.06-.94-2.06-.94-.94-2.06-.94 2.06-2.06.94zm-11 1L8.5 8.5l.94-2.06 2.06-.94-2.06-.94L8.5 2.5l-.94 2.06-2.06.94zm10 10l.94 2.06.94-2.06 2.06-.94-2.06-.94-.94-2.06-.94 2.06-2.06.94z\"/><path d=\"M17.41 7.96l-1.37-1.37c-.4-.4-.92-.59-1.43-.59-.52 0-1.04.2-1.43.59L10.3 9.45l-7.72 7.72c-.78.78-.78 2.05 0 2.83L4 21.41c.39.39.9.59 1.41.59.51 0 1.02-.2 1.41-.59l7.78-7.78 2.81-2.81c.8-.78.8-2.07 0-2.86zM5.41 20L4 18.59l7.72-7.72 1.47 1.35L5.41 20z\"/>\n",
              "  </svg>\n",
              "      </button>\n",
              "      \n",
              "  <style>\n",
              "    .colab-df-container {\n",
              "      display:flex;\n",
              "      flex-wrap:wrap;\n",
              "      gap: 12px;\n",
              "    }\n",
              "\n",
              "    .colab-df-convert {\n",
              "      background-color: #E8F0FE;\n",
              "      border: none;\n",
              "      border-radius: 50%;\n",
              "      cursor: pointer;\n",
              "      display: none;\n",
              "      fill: #1967D2;\n",
              "      height: 32px;\n",
              "      padding: 0 0 0 0;\n",
              "      width: 32px;\n",
              "    }\n",
              "\n",
              "    .colab-df-convert:hover {\n",
              "      background-color: #E2EBFA;\n",
              "      box-shadow: 0px 1px 2px rgba(60, 64, 67, 0.3), 0px 1px 3px 1px rgba(60, 64, 67, 0.15);\n",
              "      fill: #174EA6;\n",
              "    }\n",
              "\n",
              "    [theme=dark] .colab-df-convert {\n",
              "      background-color: #3B4455;\n",
              "      fill: #D2E3FC;\n",
              "    }\n",
              "\n",
              "    [theme=dark] .colab-df-convert:hover {\n",
              "      background-color: #434B5C;\n",
              "      box-shadow: 0px 1px 3px 1px rgba(0, 0, 0, 0.15);\n",
              "      filter: drop-shadow(0px 1px 2px rgba(0, 0, 0, 0.3));\n",
              "      fill: #FFFFFF;\n",
              "    }\n",
              "  </style>\n",
              "\n",
              "      <script>\n",
              "        const buttonEl =\n",
              "          document.querySelector('#df-700083ec-0767-4290-bab1-72c7dc1c8c2e button.colab-df-convert');\n",
              "        buttonEl.style.display =\n",
              "          google.colab.kernel.accessAllowed ? 'block' : 'none';\n",
              "\n",
              "        async function convertToInteractive(key) {\n",
              "          const element = document.querySelector('#df-700083ec-0767-4290-bab1-72c7dc1c8c2e');\n",
              "          const dataTable =\n",
              "            await google.colab.kernel.invokeFunction('convertToInteractive',\n",
              "                                                     [key], {});\n",
              "          if (!dataTable) return;\n",
              "\n",
              "          const docLinkHtml = 'Like what you see? Visit the ' +\n",
              "            '<a target=\"_blank\" href=https://colab.research.google.com/notebooks/data_table.ipynb>data table notebook</a>'\n",
              "            + ' to learn more about interactive tables.';\n",
              "          element.innerHTML = '';\n",
              "          dataTable['output_type'] = 'display_data';\n",
              "          await google.colab.output.renderOutput(dataTable, element);\n",
              "          const docLink = document.createElement('div');\n",
              "          docLink.innerHTML = docLinkHtml;\n",
              "          element.appendChild(docLink);\n",
              "        }\n",
              "      </script>\n",
              "    </div>\n",
              "  </div>\n",
              "  "
            ]
          },
          "metadata": {},
          "execution_count": 75
        }
      ],
      "source": [
        "X_train.head()"
      ]
    },
    {
      "cell_type": "markdown",
      "id": "b390b1c4",
      "metadata": {
        "id": "b390b1c4"
      },
      "source": [
        "## 9. Feature Scaling"
      ]
    },
    {
      "cell_type": "code",
      "execution_count": 76,
      "id": "e7baee7c",
      "metadata": {
        "id": "e7baee7c"
      },
      "outputs": [],
      "source": [
        "##normalising the data\n",
        "from sklearn.preprocessing import StandardScaler\n",
        "scaler=StandardScaler()"
      ]
    },
    {
      "cell_type": "code",
      "execution_count": 77,
      "id": "07fadb52",
      "metadata": {
        "id": "07fadb52"
      },
      "outputs": [],
      "source": [
        "X_train=scaler.fit_transform(X_train)\n",
        "X_test=scaler.transform(X_test) "
      ]
    },
    {
      "cell_type": "markdown",
      "id": "e7ea6336",
      "metadata": {
        "id": "e7ea6336"
      },
      "source": [
        "## 10. Model building"
      ]
    },
    {
      "cell_type": "code",
      "execution_count": 78,
      "id": "cf11fb12",
      "metadata": {
        "id": "cf11fb12"
      },
      "outputs": [],
      "source": [
        "from sklearn.neighbors import KNeighborsRegressor"
      ]
    },
    {
      "cell_type": "code",
      "execution_count": 79,
      "id": "c4181e1b",
      "metadata": {
        "id": "c4181e1b"
      },
      "outputs": [],
      "source": [
        "model = KNeighborsRegressor()"
      ]
    },
    {
      "cell_type": "code",
      "execution_count": 80,
      "id": "b0a371bc",
      "metadata": {
        "id": "b0a371bc"
      },
      "outputs": [],
      "source": [
        "model = model.fit(X_train, y_train)"
      ]
    },
    {
      "cell_type": "code",
      "execution_count": 81,
      "id": "98563743",
      "metadata": {
        "colab": {
          "base_uri": "https://localhost:8080/"
        },
        "id": "98563743",
        "outputId": "fef50507-e95a-488d-a8dd-cc9e605a1df4"
      },
      "outputs": [
        {
          "output_type": "execute_result",
          "data": {
            "text/plain": [
              "78.80672589085536"
            ]
          },
          "metadata": {},
          "execution_count": 81
        }
      ],
      "source": [
        "model.score(X_train, y_train)*100"
      ]
    },
    {
      "cell_type": "code",
      "execution_count": 82,
      "id": "492afd1d",
      "metadata": {
        "id": "492afd1d"
      },
      "outputs": [],
      "source": [
        "y_pred_lr = model.predict(X_test)"
      ]
    },
    {
      "cell_type": "markdown",
      "id": "552dd627",
      "metadata": {
        "id": "552dd627"
      },
      "source": [
        "## 11. Model performance"
      ]
    },
    {
      "cell_type": "code",
      "execution_count": 83,
      "id": "e8e3d424",
      "metadata": {
        "colab": {
          "base_uri": "https://localhost:8080/"
        },
        "id": "e8e3d424",
        "outputId": "61179ca7-6423-4be1-9e6a-73470d5e6db8"
      },
      "outputs": [
        {
          "output_type": "stream",
          "name": "stdout",
          "text": [
            "KNNRegression\n",
            "r2_score 78.30\n",
            "Adjusted_r2_score 78.29\n",
            "MAE: 0.94\n",
            "RMSE: 1.24\n"
          ]
        }
      ],
      "source": [
        "from sklearn import metrics\n",
        "print('KNNRegression')\n",
        "print('r2_score', \"{:.2f}\".format(metrics.r2_score(y_test,y_pred_lr)*100))\n",
        "score = metrics.r2_score(y_test,y_pred_lr)\n",
        "a_r2 = 1-(1-score)*(len(y_test)-1)/(len(y_test)-X_test.shape[1]-1)\n",
        "print('Adjusted_r2_score',\"{:.2f}\".format(a_r2*100))\n",
        "print('MAE:', \"{:.2f}\".format(metrics.mean_absolute_error(y_test, y_pred_lr)))\n",
        "#print('MSE:', metrics.mean_squared_error(y_test, y_pred))\n",
        "print('RMSE:', \"{:.2f}\".format(np.sqrt(metrics.mean_squared_error(y_test, y_pred_lr))))"
      ]
    },
    {
      "cell_type": "markdown",
      "id": "4ed9c892",
      "metadata": {
        "id": "4ed9c892"
      },
      "source": [
        "# without sklearn"
      ]
    },
    {
      "cell_type": "code",
      "execution_count": 84,
      "id": "4598513f",
      "metadata": {
        "id": "4598513f"
      },
      "outputs": [],
      "source": [
        "import numpy as np\n",
        "\n",
        "class KNNRegressor:\n",
        "    def __init__(self, k):\n",
        "        self.k = k\n",
        "        \n",
        "    def fit(self, X, y):\n",
        "        self.X = np.array(X)\n",
        "        self.y = np.array(y)\n",
        "        \n",
        "    def predict(self, X_test):\n",
        "        y_pred = []\n",
        "        for x in X_test:\n",
        "            dist = np.sqrt(np.sum((self.X - x) ** 2, axis=1))\n",
        "            idx = np.argsort(dist)[:self.k]\n",
        "            y_pred.append(np.mean(self.y[idx]))\n",
        "        return np.array(y_pred)"
      ]
    },
    {
      "cell_type": "code",
      "source": [
        "knn = KNNRegressor(k=2)\n",
        "knn.fit(X_train, y_train)\n",
        "y_pred = knn.predict(X_test)\n",
        "\n",
        "print(y_pred)"
      ],
      "metadata": {
        "colab": {
          "base_uri": "https://localhost:8080/"
        },
        "id": "Upqn37rSE_1o",
        "outputId": "af248d2a-51ea-455a-c343-53a32b89e1a5"
      },
      "id": "Upqn37rSE_1o",
      "execution_count": 85,
      "outputs": [
        {
          "output_type": "stream",
          "name": "stdout",
          "text": [
            "[3.43 7.78 0.97 ... 2.03 2.03 2.03]\n"
          ]
        }
      ]
    },
    {
      "cell_type": "code",
      "execution_count": 86,
      "id": "cb57a523",
      "metadata": {
        "id": "cb57a523"
      },
      "outputs": [],
      "source": [
        "import numpy as np\n",
        "\n",
        "def r2_score(y_test, y_pred):\n",
        "    sse = np.sum((y_test - y_pred) ** 2)\n",
        "    sst = np.sum((y_test - np.mean(y_test)) ** 2)\n",
        "    r2 = 1 - sse / sst\n",
        "    return r2\n"
      ]
    },
    {
      "cell_type": "code",
      "execution_count": 87,
      "id": "668dc014",
      "metadata": {
        "colab": {
          "base_uri": "https://localhost:8080/"
        },
        "id": "668dc014",
        "outputId": "cd69ea43-83d1-422c-dcd4-2880c1174afb"
      },
      "outputs": [
        {
          "output_type": "stream",
          "name": "stdout",
          "text": [
            "R-squared: 90.49083553877733\n"
          ]
        }
      ],
      "source": [
        "r2 = r2_score(y_test, y_pred)\n",
        "print(\"R-squared:\", r2*100)"
      ]
    },
    {
      "cell_type": "code",
      "execution_count": 88,
      "id": "6374e911",
      "metadata": {
        "id": "6374e911"
      },
      "outputs": [],
      "source": [
        "import numpy as np\n",
        "\n",
        "def mean_absolute_error(y_test, y_pred):\n",
        "    mae = np.mean(np.abs(y_test - y_pred))\n",
        "    return mae\n"
      ]
    },
    {
      "cell_type": "code",
      "execution_count": 89,
      "id": "6e023bbd",
      "metadata": {
        "colab": {
          "base_uri": "https://localhost:8080/"
        },
        "id": "6e023bbd",
        "outputId": "f4ea8b06-33d6-4d78-a533-607bc7cf4055"
      },
      "outputs": [
        {
          "output_type": "stream",
          "name": "stdout",
          "text": [
            "Mean absolute error: 0.388676129032258\n"
          ]
        }
      ],
      "source": [
        "mae = mean_absolute_error(y_test, y_pred)\n",
        "print(\"Mean absolute error:\", mae)"
      ]
    },
    {
      "cell_type": "code",
      "execution_count": 90,
      "id": "d7187722",
      "metadata": {
        "id": "d7187722"
      },
      "outputs": [],
      "source": [
        "import numpy as np\n",
        "\n",
        "def mean_squared_error(y_test, y_pred):\n",
        "    mse = np.mean((y_test - y_pred) ** 2)\n",
        "    return mse"
      ]
    },
    {
      "cell_type": "code",
      "execution_count": 91,
      "id": "2fb49022",
      "metadata": {
        "colab": {
          "base_uri": "https://localhost:8080/"
        },
        "id": "2fb49022",
        "outputId": "a9bacf9a-7fce-48f9-c881-72878c5b4984"
      },
      "outputs": [
        {
          "output_type": "stream",
          "name": "stdout",
          "text": [
            "Mean squared error: 0.6724242290322581\n"
          ]
        }
      ],
      "source": [
        "mse = mean_squared_error(y_test, y_pred)\n",
        "print(\"Mean squared error:\", mse)"
      ]
    },
    {
      "cell_type": "code",
      "execution_count": 92,
      "id": "02e7bf0a",
      "metadata": {
        "id": "02e7bf0a"
      },
      "outputs": [],
      "source": [
        "import pickle\n",
        "# open a file, where you ant to store the data\n",
        "file = open('knn.pkl', 'wb')\n",
        "\n",
        "# dump information to that file\n",
        "pickle.dump(knn, file)\n",
        "file.close()"
      ]
    }
  ],
  "metadata": {
    "kernelspec": {
      "display_name": "Python 3 (ipykernel)",
      "language": "python",
      "name": "python3"
    },
    "language_info": {
      "codemirror_mode": {
        "name": "ipython",
        "version": 3
      },
      "file_extension": ".py",
      "mimetype": "text/x-python",
      "name": "python",
      "nbconvert_exporter": "python",
      "pygments_lexer": "ipython3",
      "version": "3.9.7"
    },
    "colab": {
      "provenance": []
    }
  },
  "nbformat": 4,
  "nbformat_minor": 5
}